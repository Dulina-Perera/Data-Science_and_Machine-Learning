{
 "cells": [
  {
   "cell_type": "code",
   "execution_count": 8,
   "metadata": {},
   "outputs": [],
   "source": [
    "import numpy as np\n",
    "import pandas as pd\n",
    "import plotly.express as px\n",
    "import plotly.graph_objects as go\n",
    "\n",
    "from IPython.display import display\n",
    "from skimpy import skim\n",
    "from sklearn.linear_model import LogisticRegression"
   ]
  },
  {
   "cell_type": "code",
   "execution_count": 2,
   "metadata": {},
   "outputs": [
    {
     "data": {
      "text/html": [
       "<div>\n",
       "<style scoped>\n",
       "    .dataframe tbody tr th:only-of-type {\n",
       "        vertical-align: middle;\n",
       "    }\n",
       "\n",
       "    .dataframe tbody tr th {\n",
       "        vertical-align: top;\n",
       "    }\n",
       "\n",
       "    .dataframe thead th {\n",
       "        text-align: right;\n",
       "    }\n",
       "</style>\n",
       "<table border=\"1\" class=\"dataframe\">\n",
       "  <thead>\n",
       "    <tr style=\"text-align: right;\">\n",
       "      <th></th>\n",
       "      <th>age</th>\n",
       "      <th>bought_insurance</th>\n",
       "    </tr>\n",
       "  </thead>\n",
       "  <tbody>\n",
       "    <tr>\n",
       "      <th>0</th>\n",
       "      <td>22</td>\n",
       "      <td>0</td>\n",
       "    </tr>\n",
       "    <tr>\n",
       "      <th>1</th>\n",
       "      <td>25</td>\n",
       "      <td>0</td>\n",
       "    </tr>\n",
       "    <tr>\n",
       "      <th>2</th>\n",
       "      <td>47</td>\n",
       "      <td>1</td>\n",
       "    </tr>\n",
       "    <tr>\n",
       "      <th>3</th>\n",
       "      <td>52</td>\n",
       "      <td>0</td>\n",
       "    </tr>\n",
       "    <tr>\n",
       "      <th>4</th>\n",
       "      <td>46</td>\n",
       "      <td>1</td>\n",
       "    </tr>\n",
       "  </tbody>\n",
       "</table>\n",
       "</div>"
      ],
      "text/plain": [
       "   age  bought_insurance\n",
       "0   22                 0\n",
       "1   25                 0\n",
       "2   47                 1\n",
       "3   52                 0\n",
       "4   46                 1"
      ]
     },
     "metadata": {},
     "output_type": "display_data"
    },
    {
     "data": {
      "text/html": [
       "<pre style=\"white-space:pre;overflow-x:auto;line-height:normal;font-family:Menlo,'DejaVu Sans Mono',consolas,'Courier New',monospace\">╭──────────────────────────────────────────────── skimpy summary ─────────────────────────────────────────────────╮\n",
       "│ <span style=\"font-style: italic\">         Data Summary         </span> <span style=\"font-style: italic\">      Data Types       </span>                                                          │\n",
       "│ ┏━━━━━━━━━━━━━━━━━━━┳━━━━━━━━┓ ┏━━━━━━━━━━━━━┳━━━━━━━┓                                                          │\n",
       "│ ┃<span style=\"color: #008080; text-decoration-color: #008080; font-weight: bold\"> dataframe         </span>┃<span style=\"color: #008080; text-decoration-color: #008080; font-weight: bold\"> Values </span>┃ ┃<span style=\"color: #008080; text-decoration-color: #008080; font-weight: bold\"> Column Type </span>┃<span style=\"color: #008080; text-decoration-color: #008080; font-weight: bold\"> Count </span>┃                                                          │\n",
       "│ ┡━━━━━━━━━━━━━━━━━━━╇━━━━━━━━┩ ┡━━━━━━━━━━━━━╇━━━━━━━┩                                                          │\n",
       "│ │ Number of rows    │ 27     │ │ int64       │ 2     │                                                          │\n",
       "│ │ Number of columns │ 2      │ └─────────────┴───────┘                                                          │\n",
       "│ └───────────────────┴────────┘                                                                                  │\n",
       "│ <span style=\"font-style: italic\">                                                    number                                                    </span>  │\n",
       "│ ┏━━━━━━━━━━━━━━━━━━━━━━━┳━━━━━┳━━━━━━━━┳━━━━━━━━━━┳━━━━━━━━━━┳━━━━━┳━━━━━━━┳━━━━━━┳━━━━━━━━┳━━━━━━━┳━━━━━━━━━┓  │\n",
       "│ ┃<span style=\"font-weight: bold\"> column_name           </span>┃<span style=\"font-weight: bold\"> NA  </span>┃<span style=\"font-weight: bold\"> NA %   </span>┃<span style=\"font-weight: bold\"> mean     </span>┃<span style=\"font-weight: bold\"> sd       </span>┃<span style=\"font-weight: bold\"> p0  </span>┃<span style=\"font-weight: bold\"> p25   </span>┃<span style=\"font-weight: bold\"> p50  </span>┃<span style=\"font-weight: bold\"> p75    </span>┃<span style=\"font-weight: bold\"> p100  </span>┃<span style=\"font-weight: bold\"> hist    </span>┃  │\n",
       "│ ┡━━━━━━━━━━━━━━━━━━━━━━━╇━━━━━╇━━━━━━━━╇━━━━━━━━━━╇━━━━━━━━━━╇━━━━━╇━━━━━━━╇━━━━━━╇━━━━━━━━╇━━━━━━━╇━━━━━━━━━┩  │\n",
       "│ │ <span style=\"color: #af87ff; text-decoration-color: #af87ff\">age                  </span> │ <span style=\"color: #008080; text-decoration-color: #008080\">  0</span> │ <span style=\"color: #008080; text-decoration-color: #008080\">     0</span> │ <span style=\"color: #008080; text-decoration-color: #008080\">   39.67</span> │ <span style=\"color: #008080; text-decoration-color: #008080\">   15.75</span> │ <span style=\"color: #008080; text-decoration-color: #008080\"> 18</span> │ <span style=\"color: #008080; text-decoration-color: #008080\">   25</span> │ <span style=\"color: #008080; text-decoration-color: #008080\">  45</span> │ <span style=\"color: #008080; text-decoration-color: #008080\">  54.5</span> │ <span style=\"color: #008080; text-decoration-color: #008080\">   62</span> │ <span style=\"color: #008000; text-decoration-color: #008000\">▇▃ ▅▃▇ </span> │  │\n",
       "│ │ <span style=\"color: #af87ff; text-decoration-color: #af87ff\">bought_insurance     </span> │ <span style=\"color: #008080; text-decoration-color: #008080\">  0</span> │ <span style=\"color: #008080; text-decoration-color: #008080\">     0</span> │ <span style=\"color: #008080; text-decoration-color: #008080\">  0.5185</span> │ <span style=\"color: #008080; text-decoration-color: #008080\">  0.5092</span> │ <span style=\"color: #008080; text-decoration-color: #008080\">  0</span> │ <span style=\"color: #008080; text-decoration-color: #008080\">    0</span> │ <span style=\"color: #008080; text-decoration-color: #008080\">   1</span> │ <span style=\"color: #008080; text-decoration-color: #008080\">     1</span> │ <span style=\"color: #008080; text-decoration-color: #008080\">    1</span> │ <span style=\"color: #008000; text-decoration-color: #008000\">▇    ▇ </span> │  │\n",
       "│ └───────────────────────┴─────┴────────┴──────────┴──────────┴─────┴───────┴──────┴────────┴───────┴─────────┘  │\n",
       "╰────────────────────────────────────────────────────── End ──────────────────────────────────────────────────────╯\n",
       "</pre>\n"
      ],
      "text/plain": [
       "╭──────────────────────────────────────────────── skimpy summary ─────────────────────────────────────────────────╮\n",
       "│ \u001b[3m         Data Summary         \u001b[0m \u001b[3m      Data Types       \u001b[0m                                                          │\n",
       "│ ┏━━━━━━━━━━━━━━━━━━━┳━━━━━━━━┓ ┏━━━━━━━━━━━━━┳━━━━━━━┓                                                          │\n",
       "│ ┃\u001b[1;36m \u001b[0m\u001b[1;36mdataframe        \u001b[0m\u001b[1;36m \u001b[0m┃\u001b[1;36m \u001b[0m\u001b[1;36mValues\u001b[0m\u001b[1;36m \u001b[0m┃ ┃\u001b[1;36m \u001b[0m\u001b[1;36mColumn Type\u001b[0m\u001b[1;36m \u001b[0m┃\u001b[1;36m \u001b[0m\u001b[1;36mCount\u001b[0m\u001b[1;36m \u001b[0m┃                                                          │\n",
       "│ ┡━━━━━━━━━━━━━━━━━━━╇━━━━━━━━┩ ┡━━━━━━━━━━━━━╇━━━━━━━┩                                                          │\n",
       "│ │ Number of rows    │ 27     │ │ int64       │ 2     │                                                          │\n",
       "│ │ Number of columns │ 2      │ └─────────────┴───────┘                                                          │\n",
       "│ └───────────────────┴────────┘                                                                                  │\n",
       "│ \u001b[3m                                                    number                                                    \u001b[0m  │\n",
       "│ ┏━━━━━━━━━━━━━━━━━━━━━━━┳━━━━━┳━━━━━━━━┳━━━━━━━━━━┳━━━━━━━━━━┳━━━━━┳━━━━━━━┳━━━━━━┳━━━━━━━━┳━━━━━━━┳━━━━━━━━━┓  │\n",
       "│ ┃\u001b[1m \u001b[0m\u001b[1mcolumn_name          \u001b[0m\u001b[1m \u001b[0m┃\u001b[1m \u001b[0m\u001b[1mNA \u001b[0m\u001b[1m \u001b[0m┃\u001b[1m \u001b[0m\u001b[1mNA %  \u001b[0m\u001b[1m \u001b[0m┃\u001b[1m \u001b[0m\u001b[1mmean    \u001b[0m\u001b[1m \u001b[0m┃\u001b[1m \u001b[0m\u001b[1msd      \u001b[0m\u001b[1m \u001b[0m┃\u001b[1m \u001b[0m\u001b[1mp0 \u001b[0m\u001b[1m \u001b[0m┃\u001b[1m \u001b[0m\u001b[1mp25  \u001b[0m\u001b[1m \u001b[0m┃\u001b[1m \u001b[0m\u001b[1mp50 \u001b[0m\u001b[1m \u001b[0m┃\u001b[1m \u001b[0m\u001b[1mp75   \u001b[0m\u001b[1m \u001b[0m┃\u001b[1m \u001b[0m\u001b[1mp100 \u001b[0m\u001b[1m \u001b[0m┃\u001b[1m \u001b[0m\u001b[1mhist   \u001b[0m\u001b[1m \u001b[0m┃  │\n",
       "│ ┡━━━━━━━━━━━━━━━━━━━━━━━╇━━━━━╇━━━━━━━━╇━━━━━━━━━━╇━━━━━━━━━━╇━━━━━╇━━━━━━━╇━━━━━━╇━━━━━━━━╇━━━━━━━╇━━━━━━━━━┩  │\n",
       "│ │ \u001b[38;5;141mage                  \u001b[0m │ \u001b[36m  0\u001b[0m │ \u001b[36m     0\u001b[0m │ \u001b[36m   39.67\u001b[0m │ \u001b[36m   15.75\u001b[0m │ \u001b[36m 18\u001b[0m │ \u001b[36m   25\u001b[0m │ \u001b[36m  45\u001b[0m │ \u001b[36m  54.5\u001b[0m │ \u001b[36m   62\u001b[0m │ \u001b[32m▇▃ ▅▃▇ \u001b[0m │  │\n",
       "│ │ \u001b[38;5;141mbought_insurance     \u001b[0m │ \u001b[36m  0\u001b[0m │ \u001b[36m     0\u001b[0m │ \u001b[36m  0.5185\u001b[0m │ \u001b[36m  0.5092\u001b[0m │ \u001b[36m  0\u001b[0m │ \u001b[36m    0\u001b[0m │ \u001b[36m   1\u001b[0m │ \u001b[36m     1\u001b[0m │ \u001b[36m    1\u001b[0m │ \u001b[32m▇    ▇ \u001b[0m │  │\n",
       "│ └───────────────────────┴─────┴────────┴──────────┴──────────┴─────┴───────┴──────┴────────┴───────┴─────────┘  │\n",
       "╰────────────────────────────────────────────────────── End ──────────────────────────────────────────────────────╯\n"
      ]
     },
     "metadata": {},
     "output_type": "display_data"
    }
   ],
   "source": [
    "df: pd.DataFrame = pd.read_csv('insurance_data.csv')\n",
    "\n",
    "display(df.head())\n",
    "skim(df)"
   ]
  },
  {
   "cell_type": "code",
   "execution_count": 3,
   "metadata": {},
   "outputs": [
    {
     "data": {
      "application/vnd.plotly.v1+json": {
       "config": {
        "plotlyServerURL": "https://plot.ly"
       },
       "data": [
        {
         "hovertemplate": "bought_insurance=%{y}<br>age=%{x}<extra></extra>",
         "legendgroup": "0",
         "marker": {
          "color": "#636efa",
          "symbol": "circle"
         },
         "mode": "markers",
         "name": "0",
         "orientation": "h",
         "showlegend": true,
         "type": "scatter",
         "x": [
          22,
          25,
          52,
          55,
          18,
          28,
          27,
          29,
          19,
          18,
          21,
          26,
          23
         ],
         "xaxis": "x",
         "y": [
          0,
          0,
          0,
          0,
          0,
          0,
          0,
          0,
          0,
          0,
          0,
          0,
          0
         ],
         "yaxis": "y"
        },
        {
         "hovertemplate": "bought_insurance=%{y}<br>age=%{x}<extra></extra>",
         "legendgroup": "1",
         "marker": {
          "color": "#EF553B",
          "symbol": "circle"
         },
         "mode": "markers",
         "name": "1",
         "orientation": "h",
         "showlegend": true,
         "type": "scatter",
         "x": [
          47,
          46,
          56,
          60,
          62,
          61,
          49,
          55,
          25,
          58,
          40,
          45,
          50,
          54
         ],
         "xaxis": "x",
         "y": [
          1,
          1,
          1,
          1,
          1,
          1,
          1,
          1,
          1,
          1,
          1,
          1,
          1,
          1
         ],
         "yaxis": "y"
        }
       ],
       "layout": {
        "legend": {
         "title": {
          "text": "bought_insurance"
         },
         "tracegroupgap": 0
        },
        "margin": {
         "t": 60
        },
        "template": {
         "data": {
          "bar": [
           {
            "error_x": {
             "color": "#2a3f5f"
            },
            "error_y": {
             "color": "#2a3f5f"
            },
            "marker": {
             "line": {
              "color": "#E5ECF6",
              "width": 0.5
             },
             "pattern": {
              "fillmode": "overlay",
              "size": 10,
              "solidity": 0.2
             }
            },
            "type": "bar"
           }
          ],
          "barpolar": [
           {
            "marker": {
             "line": {
              "color": "#E5ECF6",
              "width": 0.5
             },
             "pattern": {
              "fillmode": "overlay",
              "size": 10,
              "solidity": 0.2
             }
            },
            "type": "barpolar"
           }
          ],
          "carpet": [
           {
            "aaxis": {
             "endlinecolor": "#2a3f5f",
             "gridcolor": "white",
             "linecolor": "white",
             "minorgridcolor": "white",
             "startlinecolor": "#2a3f5f"
            },
            "baxis": {
             "endlinecolor": "#2a3f5f",
             "gridcolor": "white",
             "linecolor": "white",
             "minorgridcolor": "white",
             "startlinecolor": "#2a3f5f"
            },
            "type": "carpet"
           }
          ],
          "choropleth": [
           {
            "colorbar": {
             "outlinewidth": 0,
             "ticks": ""
            },
            "type": "choropleth"
           }
          ],
          "contour": [
           {
            "colorbar": {
             "outlinewidth": 0,
             "ticks": ""
            },
            "colorscale": [
             [
              0,
              "#0d0887"
             ],
             [
              0.1111111111111111,
              "#46039f"
             ],
             [
              0.2222222222222222,
              "#7201a8"
             ],
             [
              0.3333333333333333,
              "#9c179e"
             ],
             [
              0.4444444444444444,
              "#bd3786"
             ],
             [
              0.5555555555555556,
              "#d8576b"
             ],
             [
              0.6666666666666666,
              "#ed7953"
             ],
             [
              0.7777777777777778,
              "#fb9f3a"
             ],
             [
              0.8888888888888888,
              "#fdca26"
             ],
             [
              1,
              "#f0f921"
             ]
            ],
            "type": "contour"
           }
          ],
          "contourcarpet": [
           {
            "colorbar": {
             "outlinewidth": 0,
             "ticks": ""
            },
            "type": "contourcarpet"
           }
          ],
          "heatmap": [
           {
            "colorbar": {
             "outlinewidth": 0,
             "ticks": ""
            },
            "colorscale": [
             [
              0,
              "#0d0887"
             ],
             [
              0.1111111111111111,
              "#46039f"
             ],
             [
              0.2222222222222222,
              "#7201a8"
             ],
             [
              0.3333333333333333,
              "#9c179e"
             ],
             [
              0.4444444444444444,
              "#bd3786"
             ],
             [
              0.5555555555555556,
              "#d8576b"
             ],
             [
              0.6666666666666666,
              "#ed7953"
             ],
             [
              0.7777777777777778,
              "#fb9f3a"
             ],
             [
              0.8888888888888888,
              "#fdca26"
             ],
             [
              1,
              "#f0f921"
             ]
            ],
            "type": "heatmap"
           }
          ],
          "heatmapgl": [
           {
            "colorbar": {
             "outlinewidth": 0,
             "ticks": ""
            },
            "colorscale": [
             [
              0,
              "#0d0887"
             ],
             [
              0.1111111111111111,
              "#46039f"
             ],
             [
              0.2222222222222222,
              "#7201a8"
             ],
             [
              0.3333333333333333,
              "#9c179e"
             ],
             [
              0.4444444444444444,
              "#bd3786"
             ],
             [
              0.5555555555555556,
              "#d8576b"
             ],
             [
              0.6666666666666666,
              "#ed7953"
             ],
             [
              0.7777777777777778,
              "#fb9f3a"
             ],
             [
              0.8888888888888888,
              "#fdca26"
             ],
             [
              1,
              "#f0f921"
             ]
            ],
            "type": "heatmapgl"
           }
          ],
          "histogram": [
           {
            "marker": {
             "pattern": {
              "fillmode": "overlay",
              "size": 10,
              "solidity": 0.2
             }
            },
            "type": "histogram"
           }
          ],
          "histogram2d": [
           {
            "colorbar": {
             "outlinewidth": 0,
             "ticks": ""
            },
            "colorscale": [
             [
              0,
              "#0d0887"
             ],
             [
              0.1111111111111111,
              "#46039f"
             ],
             [
              0.2222222222222222,
              "#7201a8"
             ],
             [
              0.3333333333333333,
              "#9c179e"
             ],
             [
              0.4444444444444444,
              "#bd3786"
             ],
             [
              0.5555555555555556,
              "#d8576b"
             ],
             [
              0.6666666666666666,
              "#ed7953"
             ],
             [
              0.7777777777777778,
              "#fb9f3a"
             ],
             [
              0.8888888888888888,
              "#fdca26"
             ],
             [
              1,
              "#f0f921"
             ]
            ],
            "type": "histogram2d"
           }
          ],
          "histogram2dcontour": [
           {
            "colorbar": {
             "outlinewidth": 0,
             "ticks": ""
            },
            "colorscale": [
             [
              0,
              "#0d0887"
             ],
             [
              0.1111111111111111,
              "#46039f"
             ],
             [
              0.2222222222222222,
              "#7201a8"
             ],
             [
              0.3333333333333333,
              "#9c179e"
             ],
             [
              0.4444444444444444,
              "#bd3786"
             ],
             [
              0.5555555555555556,
              "#d8576b"
             ],
             [
              0.6666666666666666,
              "#ed7953"
             ],
             [
              0.7777777777777778,
              "#fb9f3a"
             ],
             [
              0.8888888888888888,
              "#fdca26"
             ],
             [
              1,
              "#f0f921"
             ]
            ],
            "type": "histogram2dcontour"
           }
          ],
          "mesh3d": [
           {
            "colorbar": {
             "outlinewidth": 0,
             "ticks": ""
            },
            "type": "mesh3d"
           }
          ],
          "parcoords": [
           {
            "line": {
             "colorbar": {
              "outlinewidth": 0,
              "ticks": ""
             }
            },
            "type": "parcoords"
           }
          ],
          "pie": [
           {
            "automargin": true,
            "type": "pie"
           }
          ],
          "scatter": [
           {
            "fillpattern": {
             "fillmode": "overlay",
             "size": 10,
             "solidity": 0.2
            },
            "type": "scatter"
           }
          ],
          "scatter3d": [
           {
            "line": {
             "colorbar": {
              "outlinewidth": 0,
              "ticks": ""
             }
            },
            "marker": {
             "colorbar": {
              "outlinewidth": 0,
              "ticks": ""
             }
            },
            "type": "scatter3d"
           }
          ],
          "scattercarpet": [
           {
            "marker": {
             "colorbar": {
              "outlinewidth": 0,
              "ticks": ""
             }
            },
            "type": "scattercarpet"
           }
          ],
          "scattergeo": [
           {
            "marker": {
             "colorbar": {
              "outlinewidth": 0,
              "ticks": ""
             }
            },
            "type": "scattergeo"
           }
          ],
          "scattergl": [
           {
            "marker": {
             "colorbar": {
              "outlinewidth": 0,
              "ticks": ""
             }
            },
            "type": "scattergl"
           }
          ],
          "scattermapbox": [
           {
            "marker": {
             "colorbar": {
              "outlinewidth": 0,
              "ticks": ""
             }
            },
            "type": "scattermapbox"
           }
          ],
          "scatterpolar": [
           {
            "marker": {
             "colorbar": {
              "outlinewidth": 0,
              "ticks": ""
             }
            },
            "type": "scatterpolar"
           }
          ],
          "scatterpolargl": [
           {
            "marker": {
             "colorbar": {
              "outlinewidth": 0,
              "ticks": ""
             }
            },
            "type": "scatterpolargl"
           }
          ],
          "scatterternary": [
           {
            "marker": {
             "colorbar": {
              "outlinewidth": 0,
              "ticks": ""
             }
            },
            "type": "scatterternary"
           }
          ],
          "surface": [
           {
            "colorbar": {
             "outlinewidth": 0,
             "ticks": ""
            },
            "colorscale": [
             [
              0,
              "#0d0887"
             ],
             [
              0.1111111111111111,
              "#46039f"
             ],
             [
              0.2222222222222222,
              "#7201a8"
             ],
             [
              0.3333333333333333,
              "#9c179e"
             ],
             [
              0.4444444444444444,
              "#bd3786"
             ],
             [
              0.5555555555555556,
              "#d8576b"
             ],
             [
              0.6666666666666666,
              "#ed7953"
             ],
             [
              0.7777777777777778,
              "#fb9f3a"
             ],
             [
              0.8888888888888888,
              "#fdca26"
             ],
             [
              1,
              "#f0f921"
             ]
            ],
            "type": "surface"
           }
          ],
          "table": [
           {
            "cells": {
             "fill": {
              "color": "#EBF0F8"
             },
             "line": {
              "color": "white"
             }
            },
            "header": {
             "fill": {
              "color": "#C8D4E3"
             },
             "line": {
              "color": "white"
             }
            },
            "type": "table"
           }
          ]
         },
         "layout": {
          "annotationdefaults": {
           "arrowcolor": "#2a3f5f",
           "arrowhead": 0,
           "arrowwidth": 1
          },
          "autotypenumbers": "strict",
          "coloraxis": {
           "colorbar": {
            "outlinewidth": 0,
            "ticks": ""
           }
          },
          "colorscale": {
           "diverging": [
            [
             0,
             "#8e0152"
            ],
            [
             0.1,
             "#c51b7d"
            ],
            [
             0.2,
             "#de77ae"
            ],
            [
             0.3,
             "#f1b6da"
            ],
            [
             0.4,
             "#fde0ef"
            ],
            [
             0.5,
             "#f7f7f7"
            ],
            [
             0.6,
             "#e6f5d0"
            ],
            [
             0.7,
             "#b8e186"
            ],
            [
             0.8,
             "#7fbc41"
            ],
            [
             0.9,
             "#4d9221"
            ],
            [
             1,
             "#276419"
            ]
           ],
           "sequential": [
            [
             0,
             "#0d0887"
            ],
            [
             0.1111111111111111,
             "#46039f"
            ],
            [
             0.2222222222222222,
             "#7201a8"
            ],
            [
             0.3333333333333333,
             "#9c179e"
            ],
            [
             0.4444444444444444,
             "#bd3786"
            ],
            [
             0.5555555555555556,
             "#d8576b"
            ],
            [
             0.6666666666666666,
             "#ed7953"
            ],
            [
             0.7777777777777778,
             "#fb9f3a"
            ],
            [
             0.8888888888888888,
             "#fdca26"
            ],
            [
             1,
             "#f0f921"
            ]
           ],
           "sequentialminus": [
            [
             0,
             "#0d0887"
            ],
            [
             0.1111111111111111,
             "#46039f"
            ],
            [
             0.2222222222222222,
             "#7201a8"
            ],
            [
             0.3333333333333333,
             "#9c179e"
            ],
            [
             0.4444444444444444,
             "#bd3786"
            ],
            [
             0.5555555555555556,
             "#d8576b"
            ],
            [
             0.6666666666666666,
             "#ed7953"
            ],
            [
             0.7777777777777778,
             "#fb9f3a"
            ],
            [
             0.8888888888888888,
             "#fdca26"
            ],
            [
             1,
             "#f0f921"
            ]
           ]
          },
          "colorway": [
           "#636efa",
           "#EF553B",
           "#00cc96",
           "#ab63fa",
           "#FFA15A",
           "#19d3f3",
           "#FF6692",
           "#B6E880",
           "#FF97FF",
           "#FECB52"
          ],
          "font": {
           "color": "#2a3f5f"
          },
          "geo": {
           "bgcolor": "white",
           "lakecolor": "white",
           "landcolor": "#E5ECF6",
           "showlakes": true,
           "showland": true,
           "subunitcolor": "white"
          },
          "hoverlabel": {
           "align": "left"
          },
          "hovermode": "closest",
          "mapbox": {
           "style": "light"
          },
          "paper_bgcolor": "white",
          "plot_bgcolor": "#E5ECF6",
          "polar": {
           "angularaxis": {
            "gridcolor": "white",
            "linecolor": "white",
            "ticks": ""
           },
           "bgcolor": "#E5ECF6",
           "radialaxis": {
            "gridcolor": "white",
            "linecolor": "white",
            "ticks": ""
           }
          },
          "scene": {
           "xaxis": {
            "backgroundcolor": "#E5ECF6",
            "gridcolor": "white",
            "gridwidth": 2,
            "linecolor": "white",
            "showbackground": true,
            "ticks": "",
            "zerolinecolor": "white"
           },
           "yaxis": {
            "backgroundcolor": "#E5ECF6",
            "gridcolor": "white",
            "gridwidth": 2,
            "linecolor": "white",
            "showbackground": true,
            "ticks": "",
            "zerolinecolor": "white"
           },
           "zaxis": {
            "backgroundcolor": "#E5ECF6",
            "gridcolor": "white",
            "gridwidth": 2,
            "linecolor": "white",
            "showbackground": true,
            "ticks": "",
            "zerolinecolor": "white"
           }
          },
          "shapedefaults": {
           "line": {
            "color": "#2a3f5f"
           }
          },
          "ternary": {
           "aaxis": {
            "gridcolor": "white",
            "linecolor": "white",
            "ticks": ""
           },
           "baxis": {
            "gridcolor": "white",
            "linecolor": "white",
            "ticks": ""
           },
           "bgcolor": "#E5ECF6",
           "caxis": {
            "gridcolor": "white",
            "linecolor": "white",
            "ticks": ""
           }
          },
          "title": {
           "x": 0.05
          },
          "xaxis": {
           "automargin": true,
           "gridcolor": "white",
           "linecolor": "white",
           "ticks": "",
           "title": {
            "standoff": 15
           },
           "zerolinecolor": "white",
           "zerolinewidth": 2
          },
          "yaxis": {
           "automargin": true,
           "gridcolor": "white",
           "linecolor": "white",
           "ticks": "",
           "title": {
            "standoff": 15
           },
           "zerolinecolor": "white",
           "zerolinewidth": 2
          }
         }
        },
        "xaxis": {
         "anchor": "y",
         "domain": [
          0,
          1
         ],
         "title": {
          "text": "age"
         }
        },
        "yaxis": {
         "anchor": "x",
         "categoryarray": [
          1,
          0
         ],
         "categoryorder": "array",
         "domain": [
          0,
          1
         ],
         "title": {
          "text": "bought_insurance"
         }
        }
       }
      }
     },
     "metadata": {},
     "output_type": "display_data"
    }
   ],
   "source": [
    "df['bought_insurance'] = df['bought_insurance'].astype('category')\n",
    "\n",
    "fig: px.scatter = px.scatter(df, x='age', y='bought_insurance', color='bought_insurance')\n",
    "fig.show()"
   ]
  },
  {
   "cell_type": "code",
   "execution_count": 6,
   "metadata": {},
   "outputs": [
    {
     "data": {
      "text/html": [
       "<style>#sk-container-id-2 {\n",
       "  /* Definition of color scheme common for light and dark mode */\n",
       "  --sklearn-color-text: black;\n",
       "  --sklearn-color-line: gray;\n",
       "  /* Definition of color scheme for unfitted estimators */\n",
       "  --sklearn-color-unfitted-level-0: #fff5e6;\n",
       "  --sklearn-color-unfitted-level-1: #f6e4d2;\n",
       "  --sklearn-color-unfitted-level-2: #ffe0b3;\n",
       "  --sklearn-color-unfitted-level-3: chocolate;\n",
       "  /* Definition of color scheme for fitted estimators */\n",
       "  --sklearn-color-fitted-level-0: #f0f8ff;\n",
       "  --sklearn-color-fitted-level-1: #d4ebff;\n",
       "  --sklearn-color-fitted-level-2: #b3dbfd;\n",
       "  --sklearn-color-fitted-level-3: cornflowerblue;\n",
       "\n",
       "  /* Specific color for light theme */\n",
       "  --sklearn-color-text-on-default-background: var(--sg-text-color, var(--theme-code-foreground, var(--jp-content-font-color1, black)));\n",
       "  --sklearn-color-background: var(--sg-background-color, var(--theme-background, var(--jp-layout-color0, white)));\n",
       "  --sklearn-color-border-box: var(--sg-text-color, var(--theme-code-foreground, var(--jp-content-font-color1, black)));\n",
       "  --sklearn-color-icon: #696969;\n",
       "\n",
       "  @media (prefers-color-scheme: dark) {\n",
       "    /* Redefinition of color scheme for dark theme */\n",
       "    --sklearn-color-text-on-default-background: var(--sg-text-color, var(--theme-code-foreground, var(--jp-content-font-color1, white)));\n",
       "    --sklearn-color-background: var(--sg-background-color, var(--theme-background, var(--jp-layout-color0, #111)));\n",
       "    --sklearn-color-border-box: var(--sg-text-color, var(--theme-code-foreground, var(--jp-content-font-color1, white)));\n",
       "    --sklearn-color-icon: #878787;\n",
       "  }\n",
       "}\n",
       "\n",
       "#sk-container-id-2 {\n",
       "  color: var(--sklearn-color-text);\n",
       "}\n",
       "\n",
       "#sk-container-id-2 pre {\n",
       "  padding: 0;\n",
       "}\n",
       "\n",
       "#sk-container-id-2 input.sk-hidden--visually {\n",
       "  border: 0;\n",
       "  clip: rect(1px 1px 1px 1px);\n",
       "  clip: rect(1px, 1px, 1px, 1px);\n",
       "  height: 1px;\n",
       "  margin: -1px;\n",
       "  overflow: hidden;\n",
       "  padding: 0;\n",
       "  position: absolute;\n",
       "  width: 1px;\n",
       "}\n",
       "\n",
       "#sk-container-id-2 div.sk-dashed-wrapped {\n",
       "  border: 1px dashed var(--sklearn-color-line);\n",
       "  margin: 0 0.4em 0.5em 0.4em;\n",
       "  box-sizing: border-box;\n",
       "  padding-bottom: 0.4em;\n",
       "  background-color: var(--sklearn-color-background);\n",
       "}\n",
       "\n",
       "#sk-container-id-2 div.sk-container {\n",
       "  /* jupyter's `normalize.less` sets `[hidden] { display: none; }`\n",
       "     but bootstrap.min.css set `[hidden] { display: none !important; }`\n",
       "     so we also need the `!important` here to be able to override the\n",
       "     default hidden behavior on the sphinx rendered scikit-learn.org.\n",
       "     See: https://github.com/scikit-learn/scikit-learn/issues/21755 */\n",
       "  display: inline-block !important;\n",
       "  position: relative;\n",
       "}\n",
       "\n",
       "#sk-container-id-2 div.sk-text-repr-fallback {\n",
       "  display: none;\n",
       "}\n",
       "\n",
       "div.sk-parallel-item,\n",
       "div.sk-serial,\n",
       "div.sk-item {\n",
       "  /* draw centered vertical line to link estimators */\n",
       "  background-image: linear-gradient(var(--sklearn-color-text-on-default-background), var(--sklearn-color-text-on-default-background));\n",
       "  background-size: 2px 100%;\n",
       "  background-repeat: no-repeat;\n",
       "  background-position: center center;\n",
       "}\n",
       "\n",
       "/* Parallel-specific style estimator block */\n",
       "\n",
       "#sk-container-id-2 div.sk-parallel-item::after {\n",
       "  content: \"\";\n",
       "  width: 100%;\n",
       "  border-bottom: 2px solid var(--sklearn-color-text-on-default-background);\n",
       "  flex-grow: 1;\n",
       "}\n",
       "\n",
       "#sk-container-id-2 div.sk-parallel {\n",
       "  display: flex;\n",
       "  align-items: stretch;\n",
       "  justify-content: center;\n",
       "  background-color: var(--sklearn-color-background);\n",
       "  position: relative;\n",
       "}\n",
       "\n",
       "#sk-container-id-2 div.sk-parallel-item {\n",
       "  display: flex;\n",
       "  flex-direction: column;\n",
       "}\n",
       "\n",
       "#sk-container-id-2 div.sk-parallel-item:first-child::after {\n",
       "  align-self: flex-end;\n",
       "  width: 50%;\n",
       "}\n",
       "\n",
       "#sk-container-id-2 div.sk-parallel-item:last-child::after {\n",
       "  align-self: flex-start;\n",
       "  width: 50%;\n",
       "}\n",
       "\n",
       "#sk-container-id-2 div.sk-parallel-item:only-child::after {\n",
       "  width: 0;\n",
       "}\n",
       "\n",
       "/* Serial-specific style estimator block */\n",
       "\n",
       "#sk-container-id-2 div.sk-serial {\n",
       "  display: flex;\n",
       "  flex-direction: column;\n",
       "  align-items: center;\n",
       "  background-color: var(--sklearn-color-background);\n",
       "  padding-right: 1em;\n",
       "  padding-left: 1em;\n",
       "}\n",
       "\n",
       "\n",
       "/* Toggleable style: style used for estimator/Pipeline/ColumnTransformer box that is\n",
       "clickable and can be expanded/collapsed.\n",
       "- Pipeline and ColumnTransformer use this feature and define the default style\n",
       "- Estimators will overwrite some part of the style using the `sk-estimator` class\n",
       "*/\n",
       "\n",
       "/* Pipeline and ColumnTransformer style (default) */\n",
       "\n",
       "#sk-container-id-2 div.sk-toggleable {\n",
       "  /* Default theme specific background. It is overwritten whether we have a\n",
       "  specific estimator or a Pipeline/ColumnTransformer */\n",
       "  background-color: var(--sklearn-color-background);\n",
       "}\n",
       "\n",
       "/* Toggleable label */\n",
       "#sk-container-id-2 label.sk-toggleable__label {\n",
       "  cursor: pointer;\n",
       "  display: block;\n",
       "  width: 100%;\n",
       "  margin-bottom: 0;\n",
       "  padding: 0.5em;\n",
       "  box-sizing: border-box;\n",
       "  text-align: center;\n",
       "}\n",
       "\n",
       "#sk-container-id-2 label.sk-toggleable__label-arrow:before {\n",
       "  /* Arrow on the left of the label */\n",
       "  content: \"▸\";\n",
       "  float: left;\n",
       "  margin-right: 0.25em;\n",
       "  color: var(--sklearn-color-icon);\n",
       "}\n",
       "\n",
       "#sk-container-id-2 label.sk-toggleable__label-arrow:hover:before {\n",
       "  color: var(--sklearn-color-text);\n",
       "}\n",
       "\n",
       "/* Toggleable content - dropdown */\n",
       "\n",
       "#sk-container-id-2 div.sk-toggleable__content {\n",
       "  max-height: 0;\n",
       "  max-width: 0;\n",
       "  overflow: hidden;\n",
       "  text-align: left;\n",
       "  /* unfitted */\n",
       "  background-color: var(--sklearn-color-unfitted-level-0);\n",
       "}\n",
       "\n",
       "#sk-container-id-2 div.sk-toggleable__content.fitted {\n",
       "  /* fitted */\n",
       "  background-color: var(--sklearn-color-fitted-level-0);\n",
       "}\n",
       "\n",
       "#sk-container-id-2 div.sk-toggleable__content pre {\n",
       "  margin: 0.2em;\n",
       "  border-radius: 0.25em;\n",
       "  color: var(--sklearn-color-text);\n",
       "  /* unfitted */\n",
       "  background-color: var(--sklearn-color-unfitted-level-0);\n",
       "}\n",
       "\n",
       "#sk-container-id-2 div.sk-toggleable__content.fitted pre {\n",
       "  /* unfitted */\n",
       "  background-color: var(--sklearn-color-fitted-level-0);\n",
       "}\n",
       "\n",
       "#sk-container-id-2 input.sk-toggleable__control:checked~div.sk-toggleable__content {\n",
       "  /* Expand drop-down */\n",
       "  max-height: 200px;\n",
       "  max-width: 100%;\n",
       "  overflow: auto;\n",
       "}\n",
       "\n",
       "#sk-container-id-2 input.sk-toggleable__control:checked~label.sk-toggleable__label-arrow:before {\n",
       "  content: \"▾\";\n",
       "}\n",
       "\n",
       "/* Pipeline/ColumnTransformer-specific style */\n",
       "\n",
       "#sk-container-id-2 div.sk-label input.sk-toggleable__control:checked~label.sk-toggleable__label {\n",
       "  color: var(--sklearn-color-text);\n",
       "  background-color: var(--sklearn-color-unfitted-level-2);\n",
       "}\n",
       "\n",
       "#sk-container-id-2 div.sk-label.fitted input.sk-toggleable__control:checked~label.sk-toggleable__label {\n",
       "  background-color: var(--sklearn-color-fitted-level-2);\n",
       "}\n",
       "\n",
       "/* Estimator-specific style */\n",
       "\n",
       "/* Colorize estimator box */\n",
       "#sk-container-id-2 div.sk-estimator input.sk-toggleable__control:checked~label.sk-toggleable__label {\n",
       "  /* unfitted */\n",
       "  background-color: var(--sklearn-color-unfitted-level-2);\n",
       "}\n",
       "\n",
       "#sk-container-id-2 div.sk-estimator.fitted input.sk-toggleable__control:checked~label.sk-toggleable__label {\n",
       "  /* fitted */\n",
       "  background-color: var(--sklearn-color-fitted-level-2);\n",
       "}\n",
       "\n",
       "#sk-container-id-2 div.sk-label label.sk-toggleable__label,\n",
       "#sk-container-id-2 div.sk-label label {\n",
       "  /* The background is the default theme color */\n",
       "  color: var(--sklearn-color-text-on-default-background);\n",
       "}\n",
       "\n",
       "/* On hover, darken the color of the background */\n",
       "#sk-container-id-2 div.sk-label:hover label.sk-toggleable__label {\n",
       "  color: var(--sklearn-color-text);\n",
       "  background-color: var(--sklearn-color-unfitted-level-2);\n",
       "}\n",
       "\n",
       "/* Label box, darken color on hover, fitted */\n",
       "#sk-container-id-2 div.sk-label.fitted:hover label.sk-toggleable__label.fitted {\n",
       "  color: var(--sklearn-color-text);\n",
       "  background-color: var(--sklearn-color-fitted-level-2);\n",
       "}\n",
       "\n",
       "/* Estimator label */\n",
       "\n",
       "#sk-container-id-2 div.sk-label label {\n",
       "  font-family: monospace;\n",
       "  font-weight: bold;\n",
       "  display: inline-block;\n",
       "  line-height: 1.2em;\n",
       "}\n",
       "\n",
       "#sk-container-id-2 div.sk-label-container {\n",
       "  text-align: center;\n",
       "}\n",
       "\n",
       "/* Estimator-specific */\n",
       "#sk-container-id-2 div.sk-estimator {\n",
       "  font-family: monospace;\n",
       "  border: 1px dotted var(--sklearn-color-border-box);\n",
       "  border-radius: 0.25em;\n",
       "  box-sizing: border-box;\n",
       "  margin-bottom: 0.5em;\n",
       "  /* unfitted */\n",
       "  background-color: var(--sklearn-color-unfitted-level-0);\n",
       "}\n",
       "\n",
       "#sk-container-id-2 div.sk-estimator.fitted {\n",
       "  /* fitted */\n",
       "  background-color: var(--sklearn-color-fitted-level-0);\n",
       "}\n",
       "\n",
       "/* on hover */\n",
       "#sk-container-id-2 div.sk-estimator:hover {\n",
       "  /* unfitted */\n",
       "  background-color: var(--sklearn-color-unfitted-level-2);\n",
       "}\n",
       "\n",
       "#sk-container-id-2 div.sk-estimator.fitted:hover {\n",
       "  /* fitted */\n",
       "  background-color: var(--sklearn-color-fitted-level-2);\n",
       "}\n",
       "\n",
       "/* Specification for estimator info (e.g. \"i\" and \"?\") */\n",
       "\n",
       "/* Common style for \"i\" and \"?\" */\n",
       "\n",
       ".sk-estimator-doc-link,\n",
       "a:link.sk-estimator-doc-link,\n",
       "a:visited.sk-estimator-doc-link {\n",
       "  float: right;\n",
       "  font-size: smaller;\n",
       "  line-height: 1em;\n",
       "  font-family: monospace;\n",
       "  background-color: var(--sklearn-color-background);\n",
       "  border-radius: 1em;\n",
       "  height: 1em;\n",
       "  width: 1em;\n",
       "  text-decoration: none !important;\n",
       "  margin-left: 1ex;\n",
       "  /* unfitted */\n",
       "  border: var(--sklearn-color-unfitted-level-1) 1pt solid;\n",
       "  color: var(--sklearn-color-unfitted-level-1);\n",
       "}\n",
       "\n",
       ".sk-estimator-doc-link.fitted,\n",
       "a:link.sk-estimator-doc-link.fitted,\n",
       "a:visited.sk-estimator-doc-link.fitted {\n",
       "  /* fitted */\n",
       "  border: var(--sklearn-color-fitted-level-1) 1pt solid;\n",
       "  color: var(--sklearn-color-fitted-level-1);\n",
       "}\n",
       "\n",
       "/* On hover */\n",
       "div.sk-estimator:hover .sk-estimator-doc-link:hover,\n",
       ".sk-estimator-doc-link:hover,\n",
       "div.sk-label-container:hover .sk-estimator-doc-link:hover,\n",
       ".sk-estimator-doc-link:hover {\n",
       "  /* unfitted */\n",
       "  background-color: var(--sklearn-color-unfitted-level-3);\n",
       "  color: var(--sklearn-color-background);\n",
       "  text-decoration: none;\n",
       "}\n",
       "\n",
       "div.sk-estimator.fitted:hover .sk-estimator-doc-link.fitted:hover,\n",
       ".sk-estimator-doc-link.fitted:hover,\n",
       "div.sk-label-container:hover .sk-estimator-doc-link.fitted:hover,\n",
       ".sk-estimator-doc-link.fitted:hover {\n",
       "  /* fitted */\n",
       "  background-color: var(--sklearn-color-fitted-level-3);\n",
       "  color: var(--sklearn-color-background);\n",
       "  text-decoration: none;\n",
       "}\n",
       "\n",
       "/* Span, style for the box shown on hovering the info icon */\n",
       ".sk-estimator-doc-link span {\n",
       "  display: none;\n",
       "  z-index: 9999;\n",
       "  position: relative;\n",
       "  font-weight: normal;\n",
       "  right: .2ex;\n",
       "  padding: .5ex;\n",
       "  margin: .5ex;\n",
       "  width: min-content;\n",
       "  min-width: 20ex;\n",
       "  max-width: 50ex;\n",
       "  color: var(--sklearn-color-text);\n",
       "  box-shadow: 2pt 2pt 4pt #999;\n",
       "  /* unfitted */\n",
       "  background: var(--sklearn-color-unfitted-level-0);\n",
       "  border: .5pt solid var(--sklearn-color-unfitted-level-3);\n",
       "}\n",
       "\n",
       ".sk-estimator-doc-link.fitted span {\n",
       "  /* fitted */\n",
       "  background: var(--sklearn-color-fitted-level-0);\n",
       "  border: var(--sklearn-color-fitted-level-3);\n",
       "}\n",
       "\n",
       ".sk-estimator-doc-link:hover span {\n",
       "  display: block;\n",
       "}\n",
       "\n",
       "/* \"?\"-specific style due to the `<a>` HTML tag */\n",
       "\n",
       "#sk-container-id-2 a.estimator_doc_link {\n",
       "  float: right;\n",
       "  font-size: 1rem;\n",
       "  line-height: 1em;\n",
       "  font-family: monospace;\n",
       "  background-color: var(--sklearn-color-background);\n",
       "  border-radius: 1rem;\n",
       "  height: 1rem;\n",
       "  width: 1rem;\n",
       "  text-decoration: none;\n",
       "  /* unfitted */\n",
       "  color: var(--sklearn-color-unfitted-level-1);\n",
       "  border: var(--sklearn-color-unfitted-level-1) 1pt solid;\n",
       "}\n",
       "\n",
       "#sk-container-id-2 a.estimator_doc_link.fitted {\n",
       "  /* fitted */\n",
       "  border: var(--sklearn-color-fitted-level-1) 1pt solid;\n",
       "  color: var(--sklearn-color-fitted-level-1);\n",
       "}\n",
       "\n",
       "/* On hover */\n",
       "#sk-container-id-2 a.estimator_doc_link:hover {\n",
       "  /* unfitted */\n",
       "  background-color: var(--sklearn-color-unfitted-level-3);\n",
       "  color: var(--sklearn-color-background);\n",
       "  text-decoration: none;\n",
       "}\n",
       "\n",
       "#sk-container-id-2 a.estimator_doc_link.fitted:hover {\n",
       "  /* fitted */\n",
       "  background-color: var(--sklearn-color-fitted-level-3);\n",
       "}\n",
       "</style><div id=\"sk-container-id-2\" class=\"sk-top-container\"><div class=\"sk-text-repr-fallback\"><pre>LogisticRegression()</pre><b>In a Jupyter environment, please rerun this cell to show the HTML representation or trust the notebook. <br />On GitHub, the HTML representation is unable to render, please try loading this page with nbviewer.org.</b></div><div class=\"sk-container\" hidden><div class=\"sk-item\"><div class=\"sk-estimator fitted sk-toggleable\"><input class=\"sk-toggleable__control sk-hidden--visually\" id=\"sk-estimator-id-2\" type=\"checkbox\" checked><label for=\"sk-estimator-id-2\" class=\"sk-toggleable__label fitted sk-toggleable__label-arrow fitted\">&nbsp;&nbsp;LogisticRegression<a class=\"sk-estimator-doc-link fitted\" rel=\"noreferrer\" target=\"_blank\" href=\"https://scikit-learn.org/1.5/modules/generated/sklearn.linear_model.LogisticRegression.html\">?<span>Documentation for LogisticRegression</span></a><span class=\"sk-estimator-doc-link fitted\">i<span>Fitted</span></span></label><div class=\"sk-toggleable__content fitted\"><pre>LogisticRegression()</pre></div> </div></div></div></div>"
      ],
      "text/plain": [
       "LogisticRegression()"
      ]
     },
     "execution_count": 6,
     "metadata": {},
     "output_type": "execute_result"
    }
   ],
   "source": [
    "model: LogisticRegression = LogisticRegression()\n",
    "\n",
    "model.fit(df[['age']], df['bought_insurance'])"
   ]
  },
  {
   "cell_type": "code",
   "execution_count": 9,
   "metadata": {},
   "outputs": [
    {
     "name": "stderr",
     "output_type": "stream",
     "text": [
      "/home/dulinaperera/anaconda3/envs/ds_and_ml/lib/python3.12/site-packages/sklearn/base.py:493: UserWarning:\n",
      "\n",
      "X does not have valid feature names, but LogisticRegression was fitted with feature names\n",
      "\n"
     ]
    },
    {
     "data": {
      "application/vnd.plotly.v1+json": {
       "config": {
        "plotlyServerURL": "https://plot.ly"
       },
       "data": [
        {
         "hovertemplate": "bought_insurance=%{y}<br>age=%{x}<extra></extra>",
         "legendgroup": "0",
         "marker": {
          "color": "#636efa",
          "symbol": "circle"
         },
         "mode": "markers",
         "name": "0",
         "orientation": "h",
         "showlegend": true,
         "type": "scatter",
         "x": [
          22,
          25,
          52,
          55,
          18,
          28,
          27,
          29,
          19,
          18,
          21,
          26,
          23
         ],
         "xaxis": "x",
         "y": [
          0,
          0,
          0,
          0,
          0,
          0,
          0,
          0,
          0,
          0,
          0,
          0,
          0
         ],
         "yaxis": "y"
        },
        {
         "hovertemplate": "bought_insurance=%{y}<br>age=%{x}<extra></extra>",
         "legendgroup": "1",
         "marker": {
          "color": "#EF553B",
          "symbol": "circle"
         },
         "mode": "markers",
         "name": "1",
         "orientation": "h",
         "showlegend": true,
         "type": "scatter",
         "x": [
          47,
          46,
          56,
          60,
          62,
          61,
          49,
          55,
          25,
          58,
          40,
          45,
          50,
          54
         ],
         "xaxis": "x",
         "y": [
          1,
          1,
          1,
          1,
          1,
          1,
          1,
          1,
          1,
          1,
          1,
          1,
          1,
          1
         ],
         "yaxis": "y"
        },
        {
         "mode": "lines",
         "name": "Logistic Regression",
         "type": "scatter",
         "x": [
          18,
          18.044044044044043,
          18.08808808808809,
          18.13213213213213,
          18.176176176176178,
          18.22022022022022,
          18.264264264264263,
          18.30830830830831,
          18.35235235235235,
          18.396396396396398,
          18.44044044044044,
          18.484484484484483,
          18.52852852852853,
          18.57257257257257,
          18.616616616616618,
          18.66066066066066,
          18.704704704704703,
          18.74874874874875,
          18.792792792792792,
          18.836836836836838,
          18.88088088088088,
          18.924924924924923,
          18.96896896896897,
          19.013013013013012,
          19.057057057057058,
          19.1011011011011,
          19.145145145145143,
          19.18918918918919,
          19.233233233233232,
          19.27727727727728,
          19.32132132132132,
          19.365365365365367,
          19.40940940940941,
          19.453453453453452,
          19.4974974974975,
          19.54154154154154,
          19.585585585585587,
          19.62962962962963,
          19.673673673673672,
          19.71771771771772,
          19.76176176176176,
          19.805805805805807,
          19.84984984984985,
          19.893893893893893,
          19.93793793793794,
          19.98198198198198,
          20.026026026026027,
          20.07007007007007,
          20.114114114114113,
          20.15815815815816,
          20.2022022022022,
          20.246246246246248,
          20.29029029029029,
          20.334334334334333,
          20.37837837837838,
          20.42242242242242,
          20.466466466466468,
          20.51051051051051,
          20.554554554554556,
          20.5985985985986,
          20.64264264264264,
          20.686686686686688,
          20.73073073073073,
          20.774774774774777,
          20.81881881881882,
          20.862862862862862,
          20.906906906906908,
          20.95095095095095,
          20.994994994994997,
          21.03903903903904,
          21.083083083083082,
          21.127127127127128,
          21.17117117117117,
          21.215215215215217,
          21.25925925925926,
          21.303303303303302,
          21.34734734734735,
          21.39139139139139,
          21.435435435435437,
          21.47947947947948,
          21.523523523523522,
          21.56756756756757,
          21.61161161161161,
          21.655655655655657,
          21.6996996996997,
          21.743743743743742,
          21.78778778778779,
          21.83183183183183,
          21.875875875875877,
          21.91991991991992,
          21.963963963963963,
          22.00800800800801,
          22.05205205205205,
          22.096096096096097,
          22.14014014014014,
          22.184184184184183,
          22.22822822822823,
          22.27227227227227,
          22.316316316316318,
          22.36036036036036,
          22.404404404404403,
          22.44844844844845,
          22.49249249249249,
          22.536536536536538,
          22.58058058058058,
          22.624624624624623,
          22.66866866866867,
          22.71271271271271,
          22.756756756756758,
          22.8008008008008,
          22.844844844844843,
          22.88888888888889,
          22.932932932932932,
          22.976976976976978,
          23.02102102102102,
          23.065065065065063,
          23.10910910910911,
          23.153153153153152,
          23.197197197197198,
          23.24124124124124,
          23.285285285285283,
          23.32932932932933,
          23.373373373373372,
          23.41741741741742,
          23.46146146146146,
          23.505505505505504,
          23.54954954954955,
          23.593593593593592,
          23.63763763763764,
          23.68168168168168,
          23.725725725725724,
          23.76976976976977,
          23.813813813813812,
          23.85785785785786,
          23.9019019019019,
          23.945945945945944,
          23.98998998998999,
          24.034034034034036,
          24.07807807807808,
          24.12212212212212,
          24.166166166166164,
          24.21021021021021,
          24.254254254254256,
          24.2982982982983,
          24.34234234234234,
          24.386386386386384,
          24.43043043043043,
          24.474474474474476,
          24.51851851851852,
          24.56256256256256,
          24.606606606606608,
          24.65065065065065,
          24.694694694694697,
          24.73873873873874,
          24.782782782782782,
          24.826826826826828,
          24.87087087087087,
          24.914914914914917,
          24.95895895895896,
          25.003003003003002,
          25.047047047047048,
          25.09109109109109,
          25.135135135135137,
          25.17917917917918,
          25.223223223223222,
          25.26726726726727,
          25.31131131131131,
          25.355355355355357,
          25.3993993993994,
          25.443443443443442,
          25.48748748748749,
          25.53153153153153,
          25.575575575575577,
          25.61961961961962,
          25.663663663663662,
          25.70770770770771,
          25.75175175175175,
          25.795795795795797,
          25.83983983983984,
          25.883883883883883,
          25.92792792792793,
          25.97197197197197,
          26.016016016016017,
          26.06006006006006,
          26.104104104104103,
          26.14814814814815,
          26.19219219219219,
          26.236236236236238,
          26.28028028028028,
          26.324324324324323,
          26.36836836836837,
          26.41241241241241,
          26.456456456456458,
          26.5005005005005,
          26.544544544544543,
          26.58858858858859,
          26.63263263263263,
          26.676676676676678,
          26.72072072072072,
          26.764764764764763,
          26.80880880880881,
          26.852852852852855,
          26.896896896896898,
          26.94094094094094,
          26.984984984984983,
          27.02902902902903,
          27.073073073073076,
          27.117117117117118,
          27.16116116116116,
          27.205205205205203,
          27.24924924924925,
          27.293293293293296,
          27.33733733733734,
          27.38138138138138,
          27.425425425425423,
          27.46946946946947,
          27.513513513513516,
          27.55755755755756,
          27.6016016016016,
          27.645645645645644,
          27.68968968968969,
          27.733733733733736,
          27.77777777777778,
          27.82182182182182,
          27.865865865865864,
          27.90990990990991,
          27.953953953953956,
          27.997997997998,
          28.04204204204204,
          28.086086086086084,
          28.13013013013013,
          28.174174174174176,
          28.21821821821822,
          28.26226226226226,
          28.306306306306304,
          28.35035035035035,
          28.394394394394396,
          28.43843843843844,
          28.48248248248248,
          28.526526526526524,
          28.57057057057057,
          28.614614614614617,
          28.65865865865866,
          28.7027027027027,
          28.746746746746744,
          28.79079079079079,
          28.834834834834837,
          28.87887887887888,
          28.922922922922922,
          28.966966966966964,
          29.01101101101101,
          29.055055055055057,
          29.0990990990991,
          29.143143143143142,
          29.187187187187185,
          29.23123123123123,
          29.275275275275277,
          29.31931931931932,
          29.363363363363362,
          29.407407407407405,
          29.45145145145145,
          29.495495495495497,
          29.53953953953954,
          29.583583583583582,
          29.627627627627625,
          29.67167167167167,
          29.715715715715717,
          29.75975975975976,
          29.803803803803802,
          29.84784784784785,
          29.89189189189189,
          29.935935935935937,
          29.97997997997998,
          30.024024024024023,
          30.06806806806807,
          30.11211211211211,
          30.156156156156158,
          30.2002002002002,
          30.244244244244243,
          30.28828828828829,
          30.33233233233233,
          30.376376376376378,
          30.42042042042042,
          30.464464464464463,
          30.50850850850851,
          30.55255255255255,
          30.596596596596598,
          30.64064064064064,
          30.684684684684683,
          30.72872872872873,
          30.772772772772772,
          30.816816816816818,
          30.86086086086086,
          30.904904904904903,
          30.94894894894895,
          30.992992992992995,
          31.037037037037038,
          31.08108108108108,
          31.125125125125123,
          31.16916916916917,
          31.213213213213216,
          31.25725725725726,
          31.3013013013013,
          31.345345345345343,
          31.38938938938939,
          31.433433433433436,
          31.47747747747748,
          31.52152152152152,
          31.565565565565564,
          31.60960960960961,
          31.653653653653656,
          31.6976976976977,
          31.74174174174174,
          31.785785785785784,
          31.82982982982983,
          31.873873873873876,
          31.91791791791792,
          31.96196196196196,
          32.006006006006004,
          32.05005005005005,
          32.094094094094096,
          32.13813813813814,
          32.18218218218218,
          32.226226226226224,
          32.270270270270274,
          32.314314314314316,
          32.35835835835836,
          32.4024024024024,
          32.446446446446444,
          32.49049049049049,
          32.53453453453454,
          32.57857857857858,
          32.62262262262262,
          32.666666666666664,
          32.710710710710714,
          32.75475475475476,
          32.7987987987988,
          32.84284284284284,
          32.886886886886884,
          32.93093093093093,
          32.97497497497498,
          33.01901901901902,
          33.06306306306306,
          33.107107107107105,
          33.151151151151154,
          33.1951951951952,
          33.23923923923924,
          33.28328328328328,
          33.327327327327325,
          33.37137137137137,
          33.41541541541542,
          33.45945945945946,
          33.5035035035035,
          33.547547547547545,
          33.591591591591595,
          33.63563563563564,
          33.67967967967968,
          33.72372372372372,
          33.767767767767765,
          33.81181181181181,
          33.85585585585586,
          33.8998998998999,
          33.94394394394394,
          33.98798798798799,
          34.032032032032035,
          34.07607607607608,
          34.12012012012012,
          34.16416416416416,
          34.208208208208205,
          34.25225225225225,
          34.2962962962963,
          34.34034034034034,
          34.38438438438438,
          34.42842842842843,
          34.472472472472475,
          34.51651651651652,
          34.56056056056056,
          34.6046046046046,
          34.648648648648646,
          34.69269269269269,
          34.73673673673674,
          34.78078078078078,
          34.82482482482482,
          34.86886886886887,
          34.912912912912915,
          34.95695695695696,
          35.001001001001,
          35.04504504504504,
          35.089089089089086,
          35.13313313313313,
          35.17717717717718,
          35.22122122122122,
          35.26526526526526,
          35.30930930930931,
          35.353353353353356,
          35.3973973973974,
          35.44144144144144,
          35.48548548548548,
          35.529529529529526,
          35.57357357357357,
          35.61761761761762,
          35.66166166166166,
          35.70570570570571,
          35.74974974974975,
          35.793793793793796,
          35.83783783783784,
          35.88188188188188,
          35.925925925925924,
          35.969969969969966,
          36.01401401401401,
          36.05805805805806,
          36.1021021021021,
          36.14614614614615,
          36.190190190190194,
          36.234234234234236,
          36.27827827827828,
          36.32232232232232,
          36.366366366366364,
          36.41041041041041,
          36.45445445445445,
          36.4984984984985,
          36.54254254254254,
          36.58658658658659,
          36.630630630630634,
          36.67467467467468,
          36.71871871871872,
          36.76276276276276,
          36.806806806806804,
          36.85085085085085,
          36.89489489489489,
          36.93893893893894,
          36.98298298298298,
          37.02702702702703,
          37.071071071071074,
          37.11511511511512,
          37.15915915915916,
          37.2032032032032,
          37.247247247247245,
          37.29129129129129,
          37.33533533533533,
          37.37937937937938,
          37.42342342342342,
          37.46746746746747,
          37.511511511511515,
          37.55555555555556,
          37.5995995995996,
          37.64364364364364,
          37.687687687687685,
          37.73173173173173,
          37.77577577577578,
          37.81981981981982,
          37.86386386386386,
          37.90790790790791,
          37.951951951951955,
          37.995995995996,
          38.04004004004004,
          38.08408408408408,
          38.128128128128125,
          38.17217217217217,
          38.21621621621622,
          38.26026026026026,
          38.3043043043043,
          38.34834834834835,
          38.392392392392395,
          38.43643643643644,
          38.48048048048048,
          38.52452452452452,
          38.568568568568566,
          38.61261261261261,
          38.65665665665666,
          38.7007007007007,
          38.74474474474474,
          38.78878878878879,
          38.832832832832835,
          38.87687687687688,
          38.92092092092092,
          38.96496496496496,
          39.009009009009006,
          39.05305305305305,
          39.0970970970971,
          39.14114114114114,
          39.18518518518518,
          39.22922922922923,
          39.273273273273276,
          39.31731731731732,
          39.36136136136136,
          39.4054054054054,
          39.449449449449446,
          39.49349349349349,
          39.53753753753754,
          39.58158158158158,
          39.62562562562563,
          39.66966966966967,
          39.713713713713716,
          39.75775775775776,
          39.8018018018018,
          39.845845845845844,
          39.889889889889886,
          39.93393393393393,
          39.97797797797798,
          40.02202202202202,
          40.06606606606607,
          40.110110110110114,
          40.154154154154156,
          40.1981981981982,
          40.24224224224224,
          40.286286286286284,
          40.33033033033033,
          40.37437437437437,
          40.41841841841842,
          40.46246246246246,
          40.50650650650651,
          40.550550550550554,
          40.5945945945946,
          40.63863863863864,
          40.68268268268268,
          40.726726726726724,
          40.77077077077077,
          40.81481481481481,
          40.85885885885886,
          40.9029029029029,
          40.94694694694695,
          40.990990990990994,
          41.03503503503504,
          41.07907907907908,
          41.12312312312312,
          41.167167167167165,
          41.21121121121121,
          41.25525525525525,
          41.2992992992993,
          41.34334334334334,
          41.38738738738739,
          41.431431431431434,
          41.47547547547548,
          41.51951951951952,
          41.56356356356356,
          41.607607607607605,
          41.65165165165165,
          41.6956956956957,
          41.73973973973974,
          41.78378378378378,
          41.82782782782783,
          41.871871871871875,
          41.91591591591592,
          41.95995995995996,
          42.004004004004,
          42.048048048048045,
          42.09209209209209,
          42.13613613613614,
          42.18018018018018,
          42.22422422422422,
          42.26826826826827,
          42.312312312312315,
          42.35635635635636,
          42.4004004004004,
          42.44444444444444,
          42.488488488488485,
          42.53253253253253,
          42.57657657657658,
          42.62062062062062,
          42.66466466466466,
          42.70870870870871,
          42.752752752752755,
          42.7967967967968,
          42.84084084084084,
          42.88488488488488,
          42.928928928928926,
          42.97297297297297,
          43.01701701701702,
          43.06106106106106,
          43.1051051051051,
          43.14914914914915,
          43.193193193193196,
          43.23723723723724,
          43.28128128128128,
          43.32532532532532,
          43.369369369369366,
          43.41341341341341,
          43.45745745745746,
          43.5015015015015,
          43.545545545545544,
          43.58958958958959,
          43.633633633633636,
          43.67767767767768,
          43.72172172172172,
          43.765765765765764,
          43.809809809809806,
          43.85385385385385,
          43.8978978978979,
          43.94194194194194,
          43.98598598598599,
          44.030030030030034,
          44.074074074074076,
          44.11811811811812,
          44.16216216216216,
          44.206206206206204,
          44.25025025025025,
          44.29429429429429,
          44.33833833833834,
          44.38238238238238,
          44.42642642642643,
          44.470470470470474,
          44.51451451451452,
          44.55855855855856,
          44.6026026026026,
          44.646646646646644,
          44.69069069069069,
          44.73473473473473,
          44.77877877877878,
          44.82282282282282,
          44.86686686686687,
          44.910910910910914,
          44.95495495495496,
          44.998998998999,
          45.04304304304304,
          45.087087087087085,
          45.13113113113113,
          45.17517517517517,
          45.21921921921922,
          45.26326326326326,
          45.30730730730731,
          45.351351351351354,
          45.3953953953954,
          45.43943943943944,
          45.48348348348348,
          45.527527527527525,
          45.57157157157157,
          45.61561561561561,
          45.65965965965966,
          45.7037037037037,
          45.74774774774775,
          45.791791791791795,
          45.83583583583584,
          45.87987987987988,
          45.92392392392392,
          45.967967967967965,
          46.01201201201201,
          46.05605605605606,
          46.1001001001001,
          46.14414414414414,
          46.18818818818819,
          46.232232232232235,
          46.27627627627628,
          46.32032032032032,
          46.36436436436436,
          46.408408408408405,
          46.45245245245245,
          46.4964964964965,
          46.54054054054054,
          46.58458458458458,
          46.62862862862863,
          46.672672672672675,
          46.71671671671672,
          46.76076076076076,
          46.8048048048048,
          46.848848848848846,
          46.89289289289289,
          46.93693693693694,
          46.98098098098098,
          47.02502502502502,
          47.06906906906907,
          47.113113113113116,
          47.15715715715716,
          47.2012012012012,
          47.24524524524524,
          47.289289289289286,
          47.33333333333333,
          47.37737737737738,
          47.42142142142142,
          47.46546546546546,
          47.50950950950951,
          47.553553553553556,
          47.5975975975976,
          47.64164164164164,
          47.685685685685684,
          47.729729729729726,
          47.77377377377377,
          47.81781781781782,
          47.86186186186186,
          47.90590590590591,
          47.94994994994995,
          47.993993993993996,
          48.03803803803804,
          48.08208208208208,
          48.126126126126124,
          48.17017017017017,
          48.21421421421421,
          48.25825825825826,
          48.3023023023023,
          48.34634634634635,
          48.390390390390394,
          48.434434434434436,
          48.47847847847848,
          48.52252252252252,
          48.566566566566564,
          48.61061061061061,
          48.65465465465465,
          48.6986986986987,
          48.74274274274274,
          48.78678678678679,
          48.830830830830834,
          48.87487487487488,
          48.91891891891892,
          48.96296296296296,
          49.007007007007005,
          49.05105105105105,
          49.09509509509509,
          49.13913913913914,
          49.18318318318318,
          49.22722722722723,
          49.271271271271274,
          49.31531531531532,
          49.35935935935936,
          49.4034034034034,
          49.447447447447445,
          49.49149149149149,
          49.53553553553553,
          49.57957957957958,
          49.62362362362362,
          49.66766766766767,
          49.711711711711715,
          49.75575575575576,
          49.7997997997998,
          49.84384384384384,
          49.887887887887885,
          49.93193193193193,
          49.97597597597598,
          50.02002002002002,
          50.06406406406406,
          50.108108108108105,
          50.152152152152155,
          50.1961961961962,
          50.24024024024024,
          50.28428428428428,
          50.328328328328325,
          50.372372372372375,
          50.41641641641642,
          50.46046046046046,
          50.5045045045045,
          50.548548548548546,
          50.592592592592595,
          50.63663663663664,
          50.68068068068068,
          50.72472472472472,
          50.768768768768766,
          50.812812812812815,
          50.85685685685686,
          50.9009009009009,
          50.94494494494494,
          50.988988988988986,
          51.033033033033036,
          51.07707707707708,
          51.12112112112112,
          51.16516516516516,
          51.209209209209206,
          51.253253253253256,
          51.2972972972973,
          51.34134134134134,
          51.38538538538538,
          51.429429429429426,
          51.473473473473476,
          51.51751751751752,
          51.56156156156156,
          51.605605605605604,
          51.649649649649646,
          51.693693693693696,
          51.73773773773774,
          51.78178178178178,
          51.825825825825824,
          51.869869869869866,
          51.913913913913916,
          51.95795795795796,
          52.002002002002,
          52.046046046046044,
          52.09009009009009,
          52.134134134134136,
          52.17817817817818,
          52.22222222222222,
          52.266266266266264,
          52.31031031031031,
          52.354354354354356,
          52.3983983983984,
          52.44244244244244,
          52.486486486486484,
          52.53053053053053,
          52.57457457457458,
          52.61861861861862,
          52.66266266266266,
          52.706706706706704,
          52.75075075075075,
          52.7947947947948,
          52.83883883883884,
          52.88288288288288,
          52.926926926926924,
          52.970970970970974,
          53.01501501501502,
          53.05905905905906,
          53.1031031031031,
          53.147147147147145,
          53.191191191191194,
          53.23523523523524,
          53.27927927927928,
          53.32332332332332,
          53.367367367367365,
          53.411411411411414,
          53.45545545545546,
          53.4994994994995,
          53.54354354354354,
          53.587587587587585,
          53.631631631631635,
          53.67567567567568,
          53.71971971971972,
          53.76376376376376,
          53.807807807807805,
          53.851851851851855,
          53.8958958958959,
          53.93993993993994,
          53.98398398398398,
          54.028028028028025,
          54.072072072072075,
          54.11611611611612,
          54.16016016016016,
          54.2042042042042,
          54.248248248248245,
          54.292292292292295,
          54.33633633633634,
          54.38038038038038,
          54.42442442442442,
          54.468468468468465,
          54.512512512512515,
          54.55655655655656,
          54.6006006006006,
          54.64464464464464,
          54.688688688688686,
          54.732732732732735,
          54.77677677677678,
          54.82082082082082,
          54.86486486486486,
          54.908908908908906,
          54.952952952952955,
          54.996996996997,
          55.04104104104104,
          55.08508508508508,
          55.129129129129126,
          55.173173173173176,
          55.21721721721722,
          55.26126126126126,
          55.3053053053053,
          55.349349349349346,
          55.393393393393396,
          55.43743743743744,
          55.48148148148148,
          55.525525525525524,
          55.569569569569566,
          55.613613613613616,
          55.65765765765766,
          55.7017017017017,
          55.745745745745744,
          55.789789789789786,
          55.833833833833836,
          55.87787787787788,
          55.92192192192192,
          55.965965965965964,
          56.01001001001001,
          56.054054054054056,
          56.0980980980981,
          56.14214214214214,
          56.186186186186184,
          56.23023023023023,
          56.274274274274276,
          56.31831831831832,
          56.36236236236236,
          56.406406406406404,
          56.45045045045045,
          56.4944944944945,
          56.53853853853854,
          56.58258258258258,
          56.626626626626624,
          56.67067067067067,
          56.71471471471472,
          56.75875875875876,
          56.8028028028028,
          56.846846846846844,
          56.89089089089089,
          56.93493493493494,
          56.97897897897898,
          57.02302302302302,
          57.067067067067065,
          57.111111111111114,
          57.15515515515516,
          57.1991991991992,
          57.24324324324324,
          57.287287287287285,
          57.331331331331334,
          57.37537537537538,
          57.41941941941942,
          57.46346346346346,
          57.507507507507505,
          57.551551551551555,
          57.5955955955956,
          57.63963963963964,
          57.68368368368368,
          57.727727727727725,
          57.771771771771775,
          57.81581581581582,
          57.85985985985986,
          57.9039039039039,
          57.947947947947945,
          57.991991991991995,
          58.03603603603604,
          58.08008008008008,
          58.12412412412412,
          58.168168168168165,
          58.212212212212215,
          58.25625625625626,
          58.3003003003003,
          58.34434434434434,
          58.388388388388385,
          58.432432432432435,
          58.47647647647648,
          58.52052052052052,
          58.56456456456456,
          58.608608608608606,
          58.652652652652655,
          58.6966966966967,
          58.74074074074074,
          58.78478478478478,
          58.828828828828826,
          58.872872872872875,
          58.91691691691692,
          58.96096096096096,
          59.005005005005,
          59.049049049049046,
          59.093093093093096,
          59.13713713713714,
          59.18118118118118,
          59.22522522522522,
          59.269269269269266,
          59.313313313313316,
          59.35735735735736,
          59.4014014014014,
          59.44544544544544,
          59.489489489489486,
          59.533533533533536,
          59.57757757757758,
          59.62162162162162,
          59.665665665665664,
          59.709709709709706,
          59.753753753753756,
          59.7977977977978,
          59.84184184184184,
          59.885885885885884,
          59.929929929929926,
          59.973973973973976,
          60.01801801801802,
          60.06206206206206,
          60.106106106106104,
          60.15015015015015,
          60.194194194194196,
          60.23823823823824,
          60.28228228228228,
          60.326326326326324,
          60.37037037037037,
          60.414414414414416,
          60.45845845845846,
          60.5025025025025,
          60.546546546546544,
          60.59059059059059,
          60.63463463463464,
          60.67867867867868,
          60.72272272272272,
          60.766766766766764,
          60.81081081081081,
          60.85485485485486,
          60.8988988988989,
          60.94294294294294,
          60.986986986986985,
          61.03103103103103,
          61.07507507507508,
          61.11911911911912,
          61.16316316316316,
          61.207207207207205,
          61.251251251251254,
          61.2952952952953,
          61.33933933933934,
          61.38338338338338,
          61.427427427427425,
          61.471471471471475,
          61.51551551551552,
          61.55955955955956,
          61.6036036036036,
          61.647647647647645,
          61.691691691691695,
          61.73573573573574,
          61.77977977977978,
          61.82382382382382,
          61.867867867867865,
          61.911911911911915,
          61.95595595595596,
          62
         ],
         "y": [
          0.05601908882651329,
          0.0563354371966095,
          0.05665346481866894,
          0.05697317939323767,
          0.057294588642400786,
          0.05761770030967572,
          0.057942522159903316,
          0.05826906197913595,
          0.05859732757452338,
          0.05892732677419599,
          0.059259067427144894,
          0.05959255740310019,
          0.05992780459240575,
          0.0602648169058917,
          0.060603602274744275,
          0.06094416865037225,
          0.06128652400427155,
          0.06163067632788621,
          0.06197663363246677,
          0.06232440394892612,
          0.06267399532769176,
          0.06302541583855593,
          0.06337867357052222,
          0.06373377663164927,
          0.06409073314889187,
          0.0644495512679385,
          0.06481023915304626,
          0.06517280498687252,
          0.06553725697030327,
          0.06590360332227897,
          0.06627185227961646,
          0.06664201209682827,
          0.06701409104593845,
          0.06738809741629538,
          0.06776403951438101,
          0.06814192566361706,
          0.0685217642041679,
          0.06890356349273997,
          0.06928733190237801,
          0.06967307782225768,
          0.07006080965747494,
          0.07045053582883207,
          0.07084226477261975,
          0.07123600494039649,
          0.07163176479876364,
          0.07202955282913746,
          0.07242937752751748,
          0.07283124740425094,
          0.07323517098379427,
          0.0736411568044704,
          0.0740492134182223,
          0.07445934939036354,
          0.07487157329932416,
          0.07528589373639374,
          0.07570231930546006,
          0.07612085862274398,
          0.07654152031653107,
          0.07696431302689864,
          0.07738924540543954,
          0.07781632611498154,
          0.07824556382930321,
          0.07867696723284572,
          0.0791105450204204,
          0.07954630589691279,
          0.07998425857698224,
          0.08042441178475787,
          0.08086677425353002,
          0.08131135472543798,
          0.08175816195115342,
          0.08220720468955975,
          0.0826584917074274,
          0.08311203177908466,
          0.08356783368608463,
          0.0840259062168678,
          0.0844862581664202,
          0.08494889833592778,
          0.08541383553242599,
          0.08588107856844512,
          0.08635063626165189,
          0.0868225174344856,
          0.0872967309137911,
          0.08777328553044655,
          0.08825219011898686,
          0.08873345351722321,
          0.08921708456585734,
          0.08970309210809219,
          0.09019148498923735,
          0.09068227205631026,
          0.09117546215763317,
          0.09167106414242497,
          0.0921690868603889,
          0.09266953916129565,
          0.09317242989456148,
          0.09367776790882223,
          0.09418556205150233,
          0.09469582116837925,
          0.09520855410314352,
          0.0957237696969536,
          0.0962414767879865,
          0.09676168421098338,
          0.09728440079679078,
          0.09780963537189657,
          0.09833739675796177,
          0.09886769377134708,
          0.09940053522263491,
          0.0999359299161468,
          0.10047388664945546,
          0.10101441421289252,
          0.10155752138905148,
          0.10210321695228515,
          0.10265150966819937,
          0.10320240829314081,
          0.10375592157368049,
          0.10431205824609258,
          0.10487082703582748,
          0.10543223665698123,
          0.10599629581175923,
          0.10656301318993487,
          0.10713239746830443,
          0.1077044573101355,
          0.10827920136461201,
          0.10885663826627338,
          0.10943677663444878,
          0.11001962507268745,
          0.11060519216818278,
          0.11119348649119244,
          0.11178451659445349,
          0.1123782910125918,
          0.11297481826152793,
          0.11357410683787678,
          0.11417616521834306,
          0.1147810018591121,
          0.11538862519523475,
          0.11599904364000864,
          0.11661226558435359,
          0.11722829939618282,
          0.11784715341976894,
          0.11846883597510512,
          0.11909335535726144,
          0.11972071983573672,
          0.12035093765380506,
          0.1209840170278578,
          0.12161996614674075,
          0.12225879317108636,
          0.12290050623264186,
          0.12354511343359152,
          0.12419262284587519,
          0.12484304251050159,
          0.125496380436857,
          0.12615264460200953,
          0.1268118429500084,
          0.1274739833911786,
          0.12813907380141143,
          0.12880712202144973,
          0.12947813585616902,
          0.13015212307385424,
          0.1308290914054714,
          0.1315090485439352,
          0.13219200214337218,
          0.13287795981837924,
          0.13356692914327806,
          0.13425891765136472,
          0.1349539328341554,
          0.1356519821406277,
          0.13635307297645763,
          0.13705721270325213,
          0.13776440863777803,
          0.1384746680511864,
          0.1391879981682326,
          0.13990440616649302,
          0.14062389917557702,
          0.14134648427633517,
          0.14207216850006393,
          0.14280095882770555,
          0.14353286218904518,
          0.14426788546190353,
          0.14500603547132546,
          0.1457473189887662,
          0.14649174273127205,
          0.14723931336065943,
          0.14799003748268888,
          0.1487439216462361,
          0.14950097234246001,
          0.1502611960039667,
          0.15102459900397047,
          0.15179118765545183,
          0.1525609682103113,
          0.15333394685852175,
          0.15411012972727609,
          0.15488952288013272,
          0.15567213231615823,
          0.1564579639690665,
          0.15724702370635585,
          0.15803931732844276,
          0.1588348505677934,
          0.1596336290880526,
          0.1604356584831698,
          0.16124094427652302,
          0.16204949192004053,
          0.16286130679332014,
          0.16367639420274588,
          0.16449475938060343,
          0.16531640748419255,
          0.16614134359493854,
          0.16696957271750124,
          0.1678010997788821,
          0.16863592962753016,
          0.16947406703244602,
          0.1703155166822844,
          0.17116028318445548,
          0.1720083710642247,
          0.1728597847638111,
          0.17371452864148526,
          0.17457260697066562,
          0.17543402393901414,
          0.17629878364753104,
          0.1771668901096485,
          0.17803834725032452,
          0.17891315890513565,
          0.17979132881936946,
          0.18067286064711685,
          0.18155775795036355,
          0.18244602419808273,
          0.1833376627653266,
          0.18423267693231837,
          0.18513106988354497,
          0.1860328447068492,
          0.18693800439252342,
          0.1878465518324033,
          0.18875848981896204,
          0.1896738210444062,
          0.19059254809977164,
          0.19151467347402099,
          0.1924401995531427,
          0.1933691286192507,
          0.1943014628496858,
          0.19523720431611916,
          0.1961763549836563,
          0.19711891670994475,
          0.198064891244282,
          0.19901428022672635,
          0.19996708518721007,
          0.20092330754465446,
          0.20188294860608835,
          0.2028460095657682,
          0.20381249150430164,
          0.2047823953877738,
          0.2057557220668765,
          0.20673247227604136,
          0.20771264663257538,
          0.2086962456358008,
          0.2096832696661977,
          0.21067371898455145,
          0.21166759373110353,
          0.21266489392470647,
          0.2136656194619834,
          0.21466977011649074,
          0.21567734553788748,
          0.21668834525110778,
          0.2177027686555382,
          0.21872061502420104,
          0.21974188350294163,
          0.22076657310962208,
          0.2217946827333196,
          0.22282621113353096,
          0.22386115693938188,
          0.22489951864884425,
          0.22594129462795673,
          0.22698648311005415,
          0.22803508219500193,
          0.2290870898484367,
          0.23014250390101543,
          0.23120132204766916,
          0.23226354184686585,
          0.23332916071987903,
          0.23439817595006407,
          0.23547058468214305,
          0.2365463839214953,
          0.23762557053345812,
          0.23870814124263368,
          0.23979409263220466,
          0.24088342114325914,
          0.24197612307412217,
          0.24307219457969803,
          0.2441716316708198,
          0.24527443021360812,
          0.24638058592884066,
          0.24749009439132802,
          0.2486029510293025,
          0.2497191511238138,
          0.2508386898081354,
          0.25196156206718207,
          0.25308776273693523,
          0.254217286503881,
          0.25535012790445705,
          0.25648628132451035,
          0.2576257409987669,
          0.2587685010103102,
          0.25991455529007323,
          0.26106389761634025,
          0.26221652161425957,
          0.26337242075536976,
          0.264531588357136,
          0.26569401758249844,
          0.266859701439434,
          0.26802863278052796,
          0.26920080430256077,
          0.2703762085461052,
          0.27155483789513646,
          0.2727366845766565,
          0.27392174066033004,
          0.27510999805813324,
          0.27630144852401756,
          0.2774960836535855,
          0.2786938948837797,
          0.27989487349258735,
          0.2810990105987564,
          0.2823062971615279,
          0.2835167239803808,
          0.2847302816947911,
          0.2859469607840072,
          0.2871667515668372,
          0.28838964420145313,
          0.2896156286852089,
          0.2908446948544729,
          0.2920768323844763,
          0.29331203078917706,
          0.2945502794211378,
          0.2957915674714206,
          0.29703588396949615,
          0.2982832177831693,
          0.29953355761852046,
          0.3007868920198628,
          0.3020432093697157,
          0.30330249788879377,
          0.30456474563601166,
          0.30582994050850826,
          0.3070980702416834,
          0.30836912240925374,
          0.30964308442332433,
          0.3109199435344776,
          0.3121996868318774,
          0.31348230124339366,
          0.3147677735357404,
          0.31605609031463333,
          0.31734723802496184,
          0.31864120295098314,
          0.3199379712165286,
          0.3212375287852311,
          0.3225398614607681,
          0.3238449548871236,
          0.3251527945488656,
          0.3264633657714452,
          0.32777665372150955,
          0.32909264340723515,
          0.3304113196786776,
          0.33173266722814027,
          0.33305667059056143,
          0.3343833141439183,
          0.3357125821096496,
          0.3370444585530971,
          0.33837892738396397,
          0.3397159723567926,
          0.34105557707146084,
          0.34239772497369464,
          0.34374239935560186,
          0.3450895833562224,
          0.3464392599620966,
          0.34779141200785396,
          0.34914602217681817,
          0.35050307300163197,
          0.3518625468648992,
          0.3532244259998465,
          0.354588692491003,
          0.3559553282748976,
          0.3573243151407762,
          0.35869563473133603,
          0.3600692685434787,
          0.3614451979290815,
          0.3628234040957877,
          0.36420386810781485,
          0.36558657088677976,
          0.36697149321254496,
          0.36835861572407996,
          0.36974791892034237,
          0.3711393831611781,
          0.37253298866823686,
          0.37392871552590806,
          0.37532654368227375,
          0.3767264529500783,
          0.3781284230077189,
          0.37953243340025006,
          0.380938463540409,
          0.38234649270965676,
          0.3837565000592358,
          0.38516846461124915,
          0.3865823652597523,
          0.3879981807718645,
          0.38941588978889746,
          0.39083547082749936,
          0.39225690228081844,
          0.3936801624196802,
          0.3951052293937846,
          0.3965320812329171,
          0.39796069584817717,
          0.3993910510332243,
          0.4008231244655382,
          0.40225689370769646,
          0.4036923362086677,
          0.4051294293051204,
          0.4065681502227474,
          0.4080084760776062,
          0.4094503838774752,
          0.41089385052322297,
          0.4123388528101956,
          0.41378536742961597,
          0.41523337097000035,
          0.4166828399185877,
          0.41813375066278413,
          0.41958607949162186,
          0.4210398025972317,
          0.4224948960763283,
          0.42395133593171264,
          0.42540909807378374,
          0.42686815832206654,
          0.42832849240675214,
          0.4297900759702495,
          0.43125288456875227,
          0.43271689367381666,
          0.4341820786739516,
          0.4356484148762219,
          0.437115877507861,
          0.43858444171789923,
          0.4400540825787996,
          0.44152477508810717,
          0.4429964941701087,
          0.44446921467750333,
          0.445942911393082,
          0.4474175590314209,
          0.4488931322405812,
          0.4503696056038213,
          0.4518469536413161,
          0.4533251508118882,
          0.45480417151474667,
          0.4562839900912353,
          0.4577645808265891,
          0.45924591795169867,
          0.4607279756448842,
          0.46221072803367547,
          0.46369414919660107,
          0.4651782131649829,
          0.4666628939247412,
          0.4681481654182023,
          0.46963400154591434,
          0.4711203761684723,
          0.4726072631083439,
          0.47409463615170505,
          0.4755824690502789,
          0.4770707355231806,
          0.47855940925876744,
          0.4800484639164926,
          0.4815378731287642,
          0.48302761050280846,
          0.4845176496225345,
          0.4860079640504066,
          0.4874985273293163,
          0.4889893129844588,
          0.49048029452521197,
          0.4919714454470179,
          0.49346273923326545,
          0.4949541493571763,
          0.4964456492836916,
          0.49793721247136064,
          0.49942881237422787,
          0.5009204224437245,
          0.5024120161305579,
          0.5039035668866019,
          0.5053950481667865,
          0.5068864334309877,
          0.5083776961459168,
          0.5098688097870061,
          0.511359747840298,
          0.5128504838043288,
          0.5143409911920107,
          0.5158312435325142,
          0.5173212143731447,
          0.51881087728122,
          0.5203002058459413,
          0.5217891736802631,
          0.5232777544227594,
          0.5247659217394836,
          0.5262536493258285,
          0.5277409109083784,
          0.5292276802467577,
          0.5307139311354746,
          0.5321996374057597,
          0.5336847729273977,
          0.5351693116105565,
          0.536653227407606,
          0.5381364943149345,
          0.5396190863747554,
          0.5411009776769092,
          0.542582142360657,
          0.5440625546164685,
          0.5455421886877992,
          0.5470210188728634,
          0.5484990195263953,
          0.5499761650614055,
          0.5514524299509256,
          0.552927788729746,
          0.5544022159961433,
          0.5558756864135991,
          0.5573481747125081,
          0.5588196556918786,
          0.5602901042210201,
          0.5617594952412223,
          0.5632278037674227,
          0.5646950048898635,
          0.5661610737757387,
          0.5676259856708282,
          0.5690897159011205,
          0.570552239874426,
          0.5720135330819744,
          0.5734735711000046,
          0.5749323295913387,
          0.5763897843069443,
          0.5778459110874858,
          0.5793006858648606,
          0.5807540846637218,
          0.5822060836029912,
          0.5836566588973541,
          0.5851057868587439,
          0.5865534438978106,
          0.5879996065253762,
          0.5894442513538766,
          0.5908873550987871,
          0.5923288945800348,
          0.5937688467233961,
          0.5952071885618789,
          0.5966438972370884,
          0.5980789500005812,
          0.5995123242152012,
          0.6009439973563993,
          0.6023739470135402,
          0.6038021508911912,
          0.6052285868103958,
          0.6066532327099311,
          0.608076066647549,
          0.6094970668012009,
          0.6109162114702451,
          0.6123334790766403,
          0.6137488481661196,
          0.6151622974093476,
          0.6165738056030635,
          0.6179833516712036,
          0.6193909146660093,
          0.620796473769116,
          0.6222000082926266,
          0.6236014976801653,
          0.6250009215079154,
          0.6263982594856393,
          0.6277934914576812,
          0.62918659740395,
          0.6305775574408878,
          0.6319663518224179,
          0.6333529609408742,
          0.6347373653279169,
          0.6361195456554246,
          0.6374994827363725,
          0.6388771575256899,
          0.6402525511211016,
          0.6416256447639491,
          0.6429964198399944,
          0.6443648578802065,
          0.6457309405615272,
          0.6470946497076215,
          0.6484559672896063,
          0.6498148754267637,
          0.6511713563872347,
          0.6525253925886931,
          0.6538769665990045,
          0.6552260611368631,
          0.6565726590724114,
          0.6579167434278435,
          0.6592582973779869,
          0.660597304250868,
          0.6619337475282583,
          0.6632676108462014,
          0.6645988779955249,
          0.6659275329223296,
          0.6672535597284647,
          0.6685769426719804,
          0.6698976661675665,
          0.67121571478697,
          0.6725310732593958,
          0.673843726471888,
          0.6751536594696957,
          0.6764608574566185,
          0.677765305795334,
          0.6790669900077089,
          0.6803658957750929,
          0.6816620089385907,
          0.6829553154993224,
          0.6842458016186603,
          0.6855334536184529,
          0.6868182579812281,
          0.6881002013503816,
          0.6893792705303461,
          0.6906554524867435,
          0.6919287343465212,
          0.6931991033980704,
          0.6944665470913275,
          0.6957310530378585,
          0.6969926090109274,
          0.6982512029455472,
          0.6995068229385143,
          0.7007594572484274,
          0.702009094295688,
          0.7032557226624881,
          0.704499331092777,
          0.7057399084922171,
          0.7069774439281201,
          0.7082119266293693,
          0.7094433459863255,
          0.7106716915507172,
          0.7118969530355163,
          0.7131191203147973,
          0.7143381834235825,
          0.7155541325576711,
          0.7167669580734537,
          0.7179766504877126,
          0.7191832004774067,
          0.7203865988794427,
          0.7215868366904306,
          0.7227839050664264,
          0.7239777953226598,
          0.7251684989332482,
          0.726356007530897,
          0.7275403129065858,
          0.7287214070092424,
          0.7298992819454004,
          0.7310739299788477,
          0.7322453435302587,
          0.7334135151768146,
          0.7345784376518116,
          0.7357401038442553,
          0.7368985067984427,
          0.738053639713534,
          0.7392054959431081,
          0.740354068994711,
          0.7414993525293889,
          0.7426413403612091,
          0.7437800264567735,
          0.7449154049347164,
          0.7460474700651932,
          0.7471762162693572,
          0.7483016381188264,
          0.7494237303351386,
          0.7505424877891961,
          0.7516579055007012,
          0.75276997863758,
          0.7538787025153953,
          0.7549840725967527,
          0.7560860844906943,
          0.7571847339520832,
          0.7582800168809792,
          0.7593719293220051,
          0.7604604674637031,
          0.7615456276378831,
          0.7626274063189626,
          0.7637058001232961,
          0.7647808058084984,
          0.765852420272757,
          0.7669206405541397,
          0.7679854638298906,
          0.7690468874157211,
          0.7701049087650916,
          0.7711595254684864,
          0.7722107352526806,
          0.7732585359800018,
          0.7743029256475813,
          0.7753439023866027,
          0.7763814644615401,
          0.7774156102693912,
          0.7784463383389055,
          0.7794736473298035,
          0.7804975360319921,
          0.781518003364773,
          0.7825350483760449,
          0.7835486702415025,
          0.784558868263827,
          0.7855656418718734,
          0.7865689906198517,
          0.7875689141865041,
          0.7885654123742755,
          0.7895584851084821,
          0.7905481324364733,
          0.7915343545267897,
          0.7925171516683176,
          0.7934965242694384,
          0.7944724728571756,
          0.7954449980763357,
          0.7964141006886489,
          0.7973797815719021,
          0.7983420417190725,
          0.7993008822374544,
          0.8002563043477872,
          0.8012083093833762,
          0.8021568987892133,
          0.8031020741210944,
          0.8040438370447337,
          0.804982189334877,
          0.805917132874411,
          0.8068486696534725,
          0.8077768017685534,
          0.8087015314216058,
          0.8096228609191449,
          0.8105407926713495,
          0.8114553291911616,
          0.812366473093386,
          0.8132742270937853,
          0.8141785940081784,
          0.8150795767515336,
          0.8159771783370651,
          0.816871401875324,
          0.8177622505732941,
          0.8186497277334824,
          0.8195338367530123,
          0.8204145811227159,
          0.8212919644262253,
          0.822165990339065,
          0.8230366626277433,
          0.8239039851488453,
          0.8247679618481253,
          0.8256285967595991,
          0.8264858940046389,
          0.8273398577910658,
          0.828190492412246,
          0.8290378022461861,
          0.8298817917546303,
          0.8307224654821577,
          0.8315598280552805,
          0.8323938841815461,
          0.8332246386486368,
          0.8340520963234738,
          0.8348762621513212,
          0.8356971411548918,
          0.8365147384334554,
          0.8373290591619482,
          0.8381401085900845,
          0.8389478920414691,
          0.8397524149127139,
          0.8405536826725547,
          0.8413517008609714,
          0.8421464750883101,
          0.8429380110344069,
          0.8437263144477154,
          0.8445113911444363,
          0.8452932470076484,
          0.8460718879864441,
          0.8468473200950669,
          0.8476195494120508,
          0.8483885820793641,
          0.8491544243015553,
          0.8499170823449017,
          0.8506765625365622,
          0.851432871263732,
          0.8521860149728016,
          0.8529360001685181,
          0.8536828334131503,
          0.8544265213256576,
          0.855167070580861,
          0.8559044879086198,
          0.8566387800930093,
          0.8573699539715041,
          0.8580980164341637,
          0.8588229744228233,
          0.8595448349302864,
          0.8602636049995235,
          0.8609792917228726,
          0.861691902241244,
          0.8624014437433313,
          0.8631079234648222,
          0.863811348687618,
          0.8645117267390536,
          0.8652090649911227,
          0.8659033708597085,
          0.8665946518038162,
          0.8672829153248122,
          0.8679681689656656,
          0.8686504203101948,
          0.8693296769823184,
          0.8700059466453112,
          0.8706792370010625,
          0.8713495557893418,
          0.872016910787066,
          0.8726813098075729,
          0.8733427606998994,
          0.8740012713480624,
          0.8746568496703466,
          0.8753095036185953,
          0.8759592411775051,
          0.8766060703639293,
          0.8772499992261801,
          0.87789103584334,
          0.8785291883245758,
          0.8791644648084582,
          0.8797968734622855,
          0.8804264224814126,
          0.8810531200885842,
          0.8816769745332731,
          0.8822979940910238,
          0.8829161870627997,
          0.883531561774336,
          0.8841441265754977,
          0.8847538898396409,
          0.8853608599629811,
          0.885965045363965,
          0.8865664544826471,
          0.8871650957800719,
          0.8877609777376599,
          0.8883541088566007,
          0.8889444976572475,
          0.88953215267852,
          0.89011708247731,
          0.8906992956278927,
          0.8912788007213429,
          0.8918556063649556,
          0.8924297211816723,
          0.893001153809512,
          0.8935699129010053,
          0.8941360071226379,
          0.8946994451542929,
          0.8952602356887037,
          0.8958183874309078,
          0.8963739090977075,
          0.8969268094171351,
          0.8974770971279225,
          0.8980247809789759,
          0.8985698697288562,
          0.8991123721452629,
          0.8996522970045232,
          0.9001896530910878,
          0.9007244491970274,
          0.9012566941215393,
          0.9017863966704543,
          0.9023135656557507,
          0.902838209895073,
          0.9033603382112546,
          0.9038799594318458,
          0.904397082388646,
          0.9049117159172422,
          0.9054238688565497,
          0.9059335500483604,
          0.9064407683368927,
          0.9069455325683493,
          0.9074478515904768,
          0.9079477342521326,
          0.9084451894028536,
          0.9089402258924326,
          0.9094328525704967,
          0.9099230782860914,
          0.91041091188727,
          0.9108963622206859,
          0.9113794381311917,
          0.9118601484614389,
          0.912338502051488,
          0.9128145077384173,
          0.9132881743559392,
          0.9137595107340217,
          0.9142285256985109,
          0.9146952280707615,
          0.9151596266672702,
          0.9156217302993126,
          0.9160815477725865,
          0.9165390878868573,
          0.9169943594356091,
          0.9174473712057009,
          0.9178981319770236,
          0.9183466505221665,
          0.9187929356060821,
          0.9192369959857603,
          0.9196788404099037,
          0.9201184776186081,
          0.9205559163430466,
          0.9209911653051585,
          0.9214242332173422,
          0.9218551287821513,
          0.9222838606919953,
          0.922710437628845,
          0.9231348682639408,
          0.9235571612575054,
          0.9239773252584604,
          0.9243953689041471,
          0.9248113008200501,
          0.9252251296195272,
          0.92563686390354,
          0.9260465122603901,
          0.9264540832654602,
          0.9268595854809555,
          0.9272630274556523,
          0.9276644177246488,
          0.9280637648091202,
          0.9284610772160751,
          0.9288563634381197,
          0.9292496319532226,
          0.929640891224483,
          0.9300301496999052,
          0.9304174158121726,
          0.9308026979784298,
          0.9311860046000647,
          0.9315673440624943,
          0.931946724734957,
          0.9323241549703041,
          0.9326996431047976,
          0.933073197457911,
          0.9334448263321319,
          0.9338145380127693,
          0.934182340767764,
          0.9345482428475017,
          0.9349122524846298,
          0.9352743778938777,
          0.9356346272718788,
          0.9359930087969978,
          0.9363495306291589,
          0.9367042009096795,
          0.9370570277611046,
          0.937408019287045,
          0.9377571835720209,
          0.9381045286813037,
          0.9384500626607656,
          0.9387937935367288,
          0.9391357293158195,
          0.9394758779848236,
          0.9398142475105462,
          0.9401508458396737,
          0.940485680898638,
          0.9408187605934845,
          0.9411500928097416,
          0.9414796854122952,
          0.9418075462452627,
          0.9421336831318733,
          0.9424581038743473,
          0.942780816253781,
          0.9431018280300324,
          0.9434211469416107,
          0.9437387807055678,
          0.9440547370173914,
          0.9443690235509024,
          0.9446816479581538,
          0.9449926178693322,
          0.9453019408926616,
          0.9456096246143099,
          0.9459156765982973,
          0.946220104386408,
          0.9465229154981033,
          0.9468241174304373,
          0.9471237176579748,
          0.9474217236327129,
          0.9477181427840017,
          0.9480129825184705,
          0.9483062502199541,
          0.9485979532494233,
          0.9488880989449139,
          0.9491766946214625,
          0.9494637475710406,
          0.9497492650624939,
          0.9500332543414799,
          0.9503157226304116,
          0.9505966771284002,
          0.9508761250112017,
          0.9511540734311639,
          0.9514305295171772,
          0.951705500374625,
          0.9519789930853385,
          0.9522510147075511,
          0.9525215722758573,
          0.9527906728011701,
          0.9530583232706831,
          0.9533245306478334,
          0.9535893018722658,
          0.9538526438597987,
          0.9541145635023941,
          0.9543750676681251,
          0.9546341632011492,
          0.9548918569216804,
          0.955148155625965,
          0.9554030660862575,
          0.9556565950507986,
          0.955908749243796,
          0.9561595353654047,
          0.9564089600917094,
          0.9566570300747114,
          0.9569037519423114,
          0.957149132298299,
          0.9573931777223412,
          0.9576358947699729,
          0.9578772899725879,
          0.9581173698374333,
          0.9583561408476037
         ]
        }
       ],
       "layout": {
        "legend": {
         "title": {
          "text": "bought_insurance"
         },
         "tracegroupgap": 0
        },
        "margin": {
         "t": 60
        },
        "template": {
         "data": {
          "bar": [
           {
            "error_x": {
             "color": "#2a3f5f"
            },
            "error_y": {
             "color": "#2a3f5f"
            },
            "marker": {
             "line": {
              "color": "#E5ECF6",
              "width": 0.5
             },
             "pattern": {
              "fillmode": "overlay",
              "size": 10,
              "solidity": 0.2
             }
            },
            "type": "bar"
           }
          ],
          "barpolar": [
           {
            "marker": {
             "line": {
              "color": "#E5ECF6",
              "width": 0.5
             },
             "pattern": {
              "fillmode": "overlay",
              "size": 10,
              "solidity": 0.2
             }
            },
            "type": "barpolar"
           }
          ],
          "carpet": [
           {
            "aaxis": {
             "endlinecolor": "#2a3f5f",
             "gridcolor": "white",
             "linecolor": "white",
             "minorgridcolor": "white",
             "startlinecolor": "#2a3f5f"
            },
            "baxis": {
             "endlinecolor": "#2a3f5f",
             "gridcolor": "white",
             "linecolor": "white",
             "minorgridcolor": "white",
             "startlinecolor": "#2a3f5f"
            },
            "type": "carpet"
           }
          ],
          "choropleth": [
           {
            "colorbar": {
             "outlinewidth": 0,
             "ticks": ""
            },
            "type": "choropleth"
           }
          ],
          "contour": [
           {
            "colorbar": {
             "outlinewidth": 0,
             "ticks": ""
            },
            "colorscale": [
             [
              0,
              "#0d0887"
             ],
             [
              0.1111111111111111,
              "#46039f"
             ],
             [
              0.2222222222222222,
              "#7201a8"
             ],
             [
              0.3333333333333333,
              "#9c179e"
             ],
             [
              0.4444444444444444,
              "#bd3786"
             ],
             [
              0.5555555555555556,
              "#d8576b"
             ],
             [
              0.6666666666666666,
              "#ed7953"
             ],
             [
              0.7777777777777778,
              "#fb9f3a"
             ],
             [
              0.8888888888888888,
              "#fdca26"
             ],
             [
              1,
              "#f0f921"
             ]
            ],
            "type": "contour"
           }
          ],
          "contourcarpet": [
           {
            "colorbar": {
             "outlinewidth": 0,
             "ticks": ""
            },
            "type": "contourcarpet"
           }
          ],
          "heatmap": [
           {
            "colorbar": {
             "outlinewidth": 0,
             "ticks": ""
            },
            "colorscale": [
             [
              0,
              "#0d0887"
             ],
             [
              0.1111111111111111,
              "#46039f"
             ],
             [
              0.2222222222222222,
              "#7201a8"
             ],
             [
              0.3333333333333333,
              "#9c179e"
             ],
             [
              0.4444444444444444,
              "#bd3786"
             ],
             [
              0.5555555555555556,
              "#d8576b"
             ],
             [
              0.6666666666666666,
              "#ed7953"
             ],
             [
              0.7777777777777778,
              "#fb9f3a"
             ],
             [
              0.8888888888888888,
              "#fdca26"
             ],
             [
              1,
              "#f0f921"
             ]
            ],
            "type": "heatmap"
           }
          ],
          "heatmapgl": [
           {
            "colorbar": {
             "outlinewidth": 0,
             "ticks": ""
            },
            "colorscale": [
             [
              0,
              "#0d0887"
             ],
             [
              0.1111111111111111,
              "#46039f"
             ],
             [
              0.2222222222222222,
              "#7201a8"
             ],
             [
              0.3333333333333333,
              "#9c179e"
             ],
             [
              0.4444444444444444,
              "#bd3786"
             ],
             [
              0.5555555555555556,
              "#d8576b"
             ],
             [
              0.6666666666666666,
              "#ed7953"
             ],
             [
              0.7777777777777778,
              "#fb9f3a"
             ],
             [
              0.8888888888888888,
              "#fdca26"
             ],
             [
              1,
              "#f0f921"
             ]
            ],
            "type": "heatmapgl"
           }
          ],
          "histogram": [
           {
            "marker": {
             "pattern": {
              "fillmode": "overlay",
              "size": 10,
              "solidity": 0.2
             }
            },
            "type": "histogram"
           }
          ],
          "histogram2d": [
           {
            "colorbar": {
             "outlinewidth": 0,
             "ticks": ""
            },
            "colorscale": [
             [
              0,
              "#0d0887"
             ],
             [
              0.1111111111111111,
              "#46039f"
             ],
             [
              0.2222222222222222,
              "#7201a8"
             ],
             [
              0.3333333333333333,
              "#9c179e"
             ],
             [
              0.4444444444444444,
              "#bd3786"
             ],
             [
              0.5555555555555556,
              "#d8576b"
             ],
             [
              0.6666666666666666,
              "#ed7953"
             ],
             [
              0.7777777777777778,
              "#fb9f3a"
             ],
             [
              0.8888888888888888,
              "#fdca26"
             ],
             [
              1,
              "#f0f921"
             ]
            ],
            "type": "histogram2d"
           }
          ],
          "histogram2dcontour": [
           {
            "colorbar": {
             "outlinewidth": 0,
             "ticks": ""
            },
            "colorscale": [
             [
              0,
              "#0d0887"
             ],
             [
              0.1111111111111111,
              "#46039f"
             ],
             [
              0.2222222222222222,
              "#7201a8"
             ],
             [
              0.3333333333333333,
              "#9c179e"
             ],
             [
              0.4444444444444444,
              "#bd3786"
             ],
             [
              0.5555555555555556,
              "#d8576b"
             ],
             [
              0.6666666666666666,
              "#ed7953"
             ],
             [
              0.7777777777777778,
              "#fb9f3a"
             ],
             [
              0.8888888888888888,
              "#fdca26"
             ],
             [
              1,
              "#f0f921"
             ]
            ],
            "type": "histogram2dcontour"
           }
          ],
          "mesh3d": [
           {
            "colorbar": {
             "outlinewidth": 0,
             "ticks": ""
            },
            "type": "mesh3d"
           }
          ],
          "parcoords": [
           {
            "line": {
             "colorbar": {
              "outlinewidth": 0,
              "ticks": ""
             }
            },
            "type": "parcoords"
           }
          ],
          "pie": [
           {
            "automargin": true,
            "type": "pie"
           }
          ],
          "scatter": [
           {
            "fillpattern": {
             "fillmode": "overlay",
             "size": 10,
             "solidity": 0.2
            },
            "type": "scatter"
           }
          ],
          "scatter3d": [
           {
            "line": {
             "colorbar": {
              "outlinewidth": 0,
              "ticks": ""
             }
            },
            "marker": {
             "colorbar": {
              "outlinewidth": 0,
              "ticks": ""
             }
            },
            "type": "scatter3d"
           }
          ],
          "scattercarpet": [
           {
            "marker": {
             "colorbar": {
              "outlinewidth": 0,
              "ticks": ""
             }
            },
            "type": "scattercarpet"
           }
          ],
          "scattergeo": [
           {
            "marker": {
             "colorbar": {
              "outlinewidth": 0,
              "ticks": ""
             }
            },
            "type": "scattergeo"
           }
          ],
          "scattergl": [
           {
            "marker": {
             "colorbar": {
              "outlinewidth": 0,
              "ticks": ""
             }
            },
            "type": "scattergl"
           }
          ],
          "scattermapbox": [
           {
            "marker": {
             "colorbar": {
              "outlinewidth": 0,
              "ticks": ""
             }
            },
            "type": "scattermapbox"
           }
          ],
          "scatterpolar": [
           {
            "marker": {
             "colorbar": {
              "outlinewidth": 0,
              "ticks": ""
             }
            },
            "type": "scatterpolar"
           }
          ],
          "scatterpolargl": [
           {
            "marker": {
             "colorbar": {
              "outlinewidth": 0,
              "ticks": ""
             }
            },
            "type": "scatterpolargl"
           }
          ],
          "scatterternary": [
           {
            "marker": {
             "colorbar": {
              "outlinewidth": 0,
              "ticks": ""
             }
            },
            "type": "scatterternary"
           }
          ],
          "surface": [
           {
            "colorbar": {
             "outlinewidth": 0,
             "ticks": ""
            },
            "colorscale": [
             [
              0,
              "#0d0887"
             ],
             [
              0.1111111111111111,
              "#46039f"
             ],
             [
              0.2222222222222222,
              "#7201a8"
             ],
             [
              0.3333333333333333,
              "#9c179e"
             ],
             [
              0.4444444444444444,
              "#bd3786"
             ],
             [
              0.5555555555555556,
              "#d8576b"
             ],
             [
              0.6666666666666666,
              "#ed7953"
             ],
             [
              0.7777777777777778,
              "#fb9f3a"
             ],
             [
              0.8888888888888888,
              "#fdca26"
             ],
             [
              1,
              "#f0f921"
             ]
            ],
            "type": "surface"
           }
          ],
          "table": [
           {
            "cells": {
             "fill": {
              "color": "#EBF0F8"
             },
             "line": {
              "color": "white"
             }
            },
            "header": {
             "fill": {
              "color": "#C8D4E3"
             },
             "line": {
              "color": "white"
             }
            },
            "type": "table"
           }
          ]
         },
         "layout": {
          "annotationdefaults": {
           "arrowcolor": "#2a3f5f",
           "arrowhead": 0,
           "arrowwidth": 1
          },
          "autotypenumbers": "strict",
          "coloraxis": {
           "colorbar": {
            "outlinewidth": 0,
            "ticks": ""
           }
          },
          "colorscale": {
           "diverging": [
            [
             0,
             "#8e0152"
            ],
            [
             0.1,
             "#c51b7d"
            ],
            [
             0.2,
             "#de77ae"
            ],
            [
             0.3,
             "#f1b6da"
            ],
            [
             0.4,
             "#fde0ef"
            ],
            [
             0.5,
             "#f7f7f7"
            ],
            [
             0.6,
             "#e6f5d0"
            ],
            [
             0.7,
             "#b8e186"
            ],
            [
             0.8,
             "#7fbc41"
            ],
            [
             0.9,
             "#4d9221"
            ],
            [
             1,
             "#276419"
            ]
           ],
           "sequential": [
            [
             0,
             "#0d0887"
            ],
            [
             0.1111111111111111,
             "#46039f"
            ],
            [
             0.2222222222222222,
             "#7201a8"
            ],
            [
             0.3333333333333333,
             "#9c179e"
            ],
            [
             0.4444444444444444,
             "#bd3786"
            ],
            [
             0.5555555555555556,
             "#d8576b"
            ],
            [
             0.6666666666666666,
             "#ed7953"
            ],
            [
             0.7777777777777778,
             "#fb9f3a"
            ],
            [
             0.8888888888888888,
             "#fdca26"
            ],
            [
             1,
             "#f0f921"
            ]
           ],
           "sequentialminus": [
            [
             0,
             "#0d0887"
            ],
            [
             0.1111111111111111,
             "#46039f"
            ],
            [
             0.2222222222222222,
             "#7201a8"
            ],
            [
             0.3333333333333333,
             "#9c179e"
            ],
            [
             0.4444444444444444,
             "#bd3786"
            ],
            [
             0.5555555555555556,
             "#d8576b"
            ],
            [
             0.6666666666666666,
             "#ed7953"
            ],
            [
             0.7777777777777778,
             "#fb9f3a"
            ],
            [
             0.8888888888888888,
             "#fdca26"
            ],
            [
             1,
             "#f0f921"
            ]
           ]
          },
          "colorway": [
           "#636efa",
           "#EF553B",
           "#00cc96",
           "#ab63fa",
           "#FFA15A",
           "#19d3f3",
           "#FF6692",
           "#B6E880",
           "#FF97FF",
           "#FECB52"
          ],
          "font": {
           "color": "#2a3f5f"
          },
          "geo": {
           "bgcolor": "white",
           "lakecolor": "white",
           "landcolor": "#E5ECF6",
           "showlakes": true,
           "showland": true,
           "subunitcolor": "white"
          },
          "hoverlabel": {
           "align": "left"
          },
          "hovermode": "closest",
          "mapbox": {
           "style": "light"
          },
          "paper_bgcolor": "white",
          "plot_bgcolor": "#E5ECF6",
          "polar": {
           "angularaxis": {
            "gridcolor": "white",
            "linecolor": "white",
            "ticks": ""
           },
           "bgcolor": "#E5ECF6",
           "radialaxis": {
            "gridcolor": "white",
            "linecolor": "white",
            "ticks": ""
           }
          },
          "scene": {
           "xaxis": {
            "backgroundcolor": "#E5ECF6",
            "gridcolor": "white",
            "gridwidth": 2,
            "linecolor": "white",
            "showbackground": true,
            "ticks": "",
            "zerolinecolor": "white"
           },
           "yaxis": {
            "backgroundcolor": "#E5ECF6",
            "gridcolor": "white",
            "gridwidth": 2,
            "linecolor": "white",
            "showbackground": true,
            "ticks": "",
            "zerolinecolor": "white"
           },
           "zaxis": {
            "backgroundcolor": "#E5ECF6",
            "gridcolor": "white",
            "gridwidth": 2,
            "linecolor": "white",
            "showbackground": true,
            "ticks": "",
            "zerolinecolor": "white"
           }
          },
          "shapedefaults": {
           "line": {
            "color": "#2a3f5f"
           }
          },
          "ternary": {
           "aaxis": {
            "gridcolor": "white",
            "linecolor": "white",
            "ticks": ""
           },
           "baxis": {
            "gridcolor": "white",
            "linecolor": "white",
            "ticks": ""
           },
           "bgcolor": "#E5ECF6",
           "caxis": {
            "gridcolor": "white",
            "linecolor": "white",
            "ticks": ""
           }
          },
          "title": {
           "x": 0.05
          },
          "xaxis": {
           "automargin": true,
           "gridcolor": "white",
           "linecolor": "white",
           "ticks": "",
           "title": {
            "standoff": 15
           },
           "zerolinecolor": "white",
           "zerolinewidth": 2
          },
          "yaxis": {
           "automargin": true,
           "gridcolor": "white",
           "linecolor": "white",
           "ticks": "",
           "title": {
            "standoff": 15
           },
           "zerolinecolor": "white",
           "zerolinewidth": 2
          }
         }
        },
        "xaxis": {
         "anchor": "y",
         "domain": [
          0,
          1
         ],
         "title": {
          "text": "age"
         }
        },
        "yaxis": {
         "anchor": "x",
         "categoryarray": [
          1,
          0
         ],
         "categoryorder": "array",
         "domain": [
          0,
          1
         ],
         "title": {
          "text": "bought_insurance"
         }
        }
       }
      }
     },
     "metadata": {},
     "output_type": "display_data"
    }
   ],
   "source": [
    "age_min: int = df['age'].min()\n",
    "age_max: int = df['age'].max()\n",
    "age_values: np.ndarray = np.linspace(age_min, age_max, 1000).reshape(-1, 1)\n",
    "\n",
    "probabilities: np.ndarray = model.predict_proba(age_values)[:, 1] # type: ignore\n",
    "\n",
    "fig: px.scatter = px.scatter(df, x='age', y='bought_insurance', color='bought_insurance')\n",
    "fig.add_trace(go.Scatter(x=age_values.flatten(), y=probabilities, mode='lines', name='Logistic Regression'))\n",
    "fig.show()"
   ]
  }
 ],
 "metadata": {
  "kernelspec": {
   "display_name": "ds_and_ml",
   "language": "python",
   "name": "python3"
  },
  "language_info": {
   "codemirror_mode": {
    "name": "ipython",
    "version": 3
   },
   "file_extension": ".py",
   "mimetype": "text/x-python",
   "name": "python",
   "nbconvert_exporter": "python",
   "pygments_lexer": "ipython3",
   "version": "3.12.4"
  }
 },
 "nbformat": 4,
 "nbformat_minor": 2
}
